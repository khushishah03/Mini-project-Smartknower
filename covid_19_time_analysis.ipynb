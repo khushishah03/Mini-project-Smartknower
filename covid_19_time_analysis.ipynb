{
  "nbformat": 4,
  "nbformat_minor": 0,
  "metadata": {
    "colab": {
      "name": "covid 19-time analysis.ipynb",
      "provenance": [],
      "mount_file_id": "1VUorR3wl2SCg7y8AfWYEb-SRBwjb_zRG",
      "authorship_tag": "ABX9TyP4Bz8RthOj2IsejkGKkVRl",
      "include_colab_link": true
    },
    "kernelspec": {
      "name": "python3",
      "display_name": "Python 3"
    }
  },
  "cells": [
    {
      "cell_type": "markdown",
      "metadata": {
        "id": "view-in-github",
        "colab_type": "text"
      },
      "source": [
        "<a href=\"https://colab.research.google.com/github/khushishah03/Mini-project-Smartknower/blob/master/covid_19_time_analysis.ipynb\" target=\"_parent\"><img src=\"https://colab.research.google.com/assets/colab-badge.svg\" alt=\"Open In Colab\"/></a>"
      ]
    },
    {
      "cell_type": "code",
      "metadata": {
        "id": "pzTAc0aORU2f",
        "outputId": "f70ba5f2-ea54-43d9-cdeb-0ff32d169b4c",
        "colab": {
          "base_uri": "https://localhost:8080/",
          "height": 17
        }
      },
      "source": [
        "import numpy as np \n",
        "import pandas as pd\n",
        "import pandas.util.testing as tm\n",
        "import seaborn as sns\n",
        "import matplotlib.pyplot as plt\n",
        "%matplotlib inline\n",
        "\n",
        "import datetime as dt\n",
        "from datetime import timedelta\n",
        "\n",
        "from sklearn.model_selection import GridSearchCV\n",
        "from sklearn.preprocessing import StandardScaler\n",
        "from sklearn.cluster import KMeans\n",
        "from sklearn.metrics import silhouette_score, silhouette_samples\n",
        "from sklearn.linear_model import LinearRegression, Ridge, Lasso\n",
        "from sklearn.tree import DecisionTreeRegressor\n",
        "from sklearn.model_selection import train_test_split, cross_val_score\n",
        "from sklearn.svm import SVR\n",
        "from sklearn.metrics import mean_squared_error,mean_squared_log_error, r2_score, make_scorer\n",
        "from sklearn.preprocessing import PolynomialFeatures\n",
        "\n",
        "import scipy.cluster.hierarchy as sch\n",
        "\n",
        "import statsmodels.api as sm\n",
        "from statsmodels.tsa.stattools import adfuller\n",
        "from statsmodels.graphics.tsaplots import plot_acf, plot_pacf\n",
        "\n",
        "\n",
        "import plotly.express as px\n",
        "import plotly.offline as py\n",
        "import plotly.graph_objs as go\n",
        "from plotly.subplots import make_subplots\n",
        "py.init_notebook_mode(connected= True)\n",
        "\n",
        "\n",
        "import warnings\n",
        "warnings.filterwarnings('ignore')"
      ],
      "execution_count": 2,
      "outputs": [
        {
          "output_type": "display_data",
          "data": {
            "text/html": [
              "        <script type=\"text/javascript\">\n",
              "        window.PlotlyConfig = {MathJaxConfig: 'local'};\n",
              "        if (window.MathJax) {MathJax.Hub.Config({SVG: {font: \"STIX-Web\"}});}\n",
              "        if (typeof require !== 'undefined') {\n",
              "        require.undef(\"plotly\");\n",
              "        requirejs.config({\n",
              "            paths: {\n",
              "                'plotly': ['https://cdn.plot.ly/plotly-latest.min']\n",
              "            }\n",
              "        });\n",
              "        require(['plotly'], function(Plotly) {\n",
              "            window._Plotly = Plotly;\n",
              "        });\n",
              "        }\n",
              "        </script>\n",
              "        "
            ]
          },
          "metadata": {
            "tags": []
          }
        }
      ]
    },
    {
      "cell_type": "code",
      "metadata": {
        "id": "VB1lt5zzRb6y"
      },
      "source": [
        "data = pd.read_csv(\"/content/drive/My Drive/Projects/dataset/COVID-19 State wise Cases.csv\")"
      ],
      "execution_count": 3,
      "outputs": []
    },
    {
      "cell_type": "code",
      "metadata": {
        "id": "4lMSjzaOR62C",
        "outputId": "b22f60d0-0599-486b-cd27-e25f2c97dad5",
        "colab": {
          "base_uri": "https://localhost:8080/",
          "height": 202
        }
      },
      "source": [
        "data.head()"
      ],
      "execution_count": 5,
      "outputs": [
        {
          "output_type": "execute_result",
          "data": {
            "text/html": [
              "<div>\n",
              "<style scoped>\n",
              "    .dataframe tbody tr th:only-of-type {\n",
              "        vertical-align: middle;\n",
              "    }\n",
              "\n",
              "    .dataframe tbody tr th {\n",
              "        vertical-align: top;\n",
              "    }\n",
              "\n",
              "    .dataframe thead th {\n",
              "        text-align: right;\n",
              "    }\n",
              "</style>\n",
              "<table border=\"1\" class=\"dataframe\">\n",
              "  <thead>\n",
              "    <tr style=\"text-align: right;\">\n",
              "      <th></th>\n",
              "      <th>S. No.</th>\n",
              "      <th>Date</th>\n",
              "      <th>Region</th>\n",
              "      <th>Confirmed Cases</th>\n",
              "      <th>Active Cases</th>\n",
              "      <th>Cured/Discharged</th>\n",
              "      <th>Death</th>\n",
              "    </tr>\n",
              "  </thead>\n",
              "  <tbody>\n",
              "    <tr>\n",
              "      <th>0</th>\n",
              "      <td>1</td>\n",
              "      <td>03-27-2020</td>\n",
              "      <td>Andaman and Nicobar Islands</td>\n",
              "      <td>1</td>\n",
              "      <td>1</td>\n",
              "      <td>0.0</td>\n",
              "      <td>0.0</td>\n",
              "    </tr>\n",
              "    <tr>\n",
              "      <th>1</th>\n",
              "      <td>2</td>\n",
              "      <td>03-28-2020</td>\n",
              "      <td>Andaman and Nicobar Islands</td>\n",
              "      <td>6</td>\n",
              "      <td>6</td>\n",
              "      <td>0.0</td>\n",
              "      <td>0.0</td>\n",
              "    </tr>\n",
              "    <tr>\n",
              "      <th>2</th>\n",
              "      <td>3</td>\n",
              "      <td>03-29-2020</td>\n",
              "      <td>Andaman and Nicobar Islands</td>\n",
              "      <td>9</td>\n",
              "      <td>9</td>\n",
              "      <td>0.0</td>\n",
              "      <td>0.0</td>\n",
              "    </tr>\n",
              "    <tr>\n",
              "      <th>3</th>\n",
              "      <td>4</td>\n",
              "      <td>03-30-2020</td>\n",
              "      <td>Andaman and Nicobar Islands</td>\n",
              "      <td>9</td>\n",
              "      <td>9</td>\n",
              "      <td>0.0</td>\n",
              "      <td>0.0</td>\n",
              "    </tr>\n",
              "    <tr>\n",
              "      <th>4</th>\n",
              "      <td>5</td>\n",
              "      <td>03-31-2020</td>\n",
              "      <td>Andaman and Nicobar Islands</td>\n",
              "      <td>10</td>\n",
              "      <td>10</td>\n",
              "      <td>0.0</td>\n",
              "      <td>0.0</td>\n",
              "    </tr>\n",
              "  </tbody>\n",
              "</table>\n",
              "</div>"
            ],
            "text/plain": [
              "   S. No.        Date  ... Cured/Discharged  Death\n",
              "0       1  03-27-2020  ...              0.0    0.0\n",
              "1       2  03-28-2020  ...              0.0    0.0\n",
              "2       3  03-29-2020  ...              0.0    0.0\n",
              "3       4  03-30-2020  ...              0.0    0.0\n",
              "4       5  03-31-2020  ...              0.0    0.0\n",
              "\n",
              "[5 rows x 7 columns]"
            ]
          },
          "metadata": {
            "tags": []
          },
          "execution_count": 5
        }
      ]
    },
    {
      "cell_type": "code",
      "metadata": {
        "id": "XXF-2a0wXQ99",
        "outputId": "8885031d-f177-4401-8d38-edba2e73857a",
        "colab": {
          "base_uri": "https://localhost:8080/",
          "height": 202
        }
      },
      "source": [
        "data['Date']= pd.to_datetime(data['Date'])\n",
        "data.head(5)"
      ],
      "execution_count": 6,
      "outputs": [
        {
          "output_type": "execute_result",
          "data": {
            "text/html": [
              "<div>\n",
              "<style scoped>\n",
              "    .dataframe tbody tr th:only-of-type {\n",
              "        vertical-align: middle;\n",
              "    }\n",
              "\n",
              "    .dataframe tbody tr th {\n",
              "        vertical-align: top;\n",
              "    }\n",
              "\n",
              "    .dataframe thead th {\n",
              "        text-align: right;\n",
              "    }\n",
              "</style>\n",
              "<table border=\"1\" class=\"dataframe\">\n",
              "  <thead>\n",
              "    <tr style=\"text-align: right;\">\n",
              "      <th></th>\n",
              "      <th>S. No.</th>\n",
              "      <th>Date</th>\n",
              "      <th>Region</th>\n",
              "      <th>Confirmed Cases</th>\n",
              "      <th>Active Cases</th>\n",
              "      <th>Cured/Discharged</th>\n",
              "      <th>Death</th>\n",
              "    </tr>\n",
              "  </thead>\n",
              "  <tbody>\n",
              "    <tr>\n",
              "      <th>0</th>\n",
              "      <td>1</td>\n",
              "      <td>2020-03-27</td>\n",
              "      <td>Andaman and Nicobar Islands</td>\n",
              "      <td>1</td>\n",
              "      <td>1</td>\n",
              "      <td>0.0</td>\n",
              "      <td>0.0</td>\n",
              "    </tr>\n",
              "    <tr>\n",
              "      <th>1</th>\n",
              "      <td>2</td>\n",
              "      <td>2020-03-28</td>\n",
              "      <td>Andaman and Nicobar Islands</td>\n",
              "      <td>6</td>\n",
              "      <td>6</td>\n",
              "      <td>0.0</td>\n",
              "      <td>0.0</td>\n",
              "    </tr>\n",
              "    <tr>\n",
              "      <th>2</th>\n",
              "      <td>3</td>\n",
              "      <td>2020-03-29</td>\n",
              "      <td>Andaman and Nicobar Islands</td>\n",
              "      <td>9</td>\n",
              "      <td>9</td>\n",
              "      <td>0.0</td>\n",
              "      <td>0.0</td>\n",
              "    </tr>\n",
              "    <tr>\n",
              "      <th>3</th>\n",
              "      <td>4</td>\n",
              "      <td>2020-03-30</td>\n",
              "      <td>Andaman and Nicobar Islands</td>\n",
              "      <td>9</td>\n",
              "      <td>9</td>\n",
              "      <td>0.0</td>\n",
              "      <td>0.0</td>\n",
              "    </tr>\n",
              "    <tr>\n",
              "      <th>4</th>\n",
              "      <td>5</td>\n",
              "      <td>2020-03-31</td>\n",
              "      <td>Andaman and Nicobar Islands</td>\n",
              "      <td>10</td>\n",
              "      <td>10</td>\n",
              "      <td>0.0</td>\n",
              "      <td>0.0</td>\n",
              "    </tr>\n",
              "  </tbody>\n",
              "</table>\n",
              "</div>"
            ],
            "text/plain": [
              "   S. No.       Date  ... Cured/Discharged  Death\n",
              "0       1 2020-03-27  ...              0.0    0.0\n",
              "1       2 2020-03-28  ...              0.0    0.0\n",
              "2       3 2020-03-29  ...              0.0    0.0\n",
              "3       4 2020-03-30  ...              0.0    0.0\n",
              "4       5 2020-03-31  ...              0.0    0.0\n",
              "\n",
              "[5 rows x 7 columns]"
            ]
          },
          "metadata": {
            "tags": []
          },
          "execution_count": 6
        }
      ]
    },
    {
      "cell_type": "code",
      "metadata": {
        "id": "bQAjqNlkXTbr",
        "outputId": "79ce425c-ec6e-48d4-f2a6-51a082671010",
        "colab": {
          "base_uri": "https://localhost:8080/",
          "height": 87
        }
      },
      "source": [
        "print(\"Dataset Description\")\n",
        "print(\"Earliest Entry: \",data['Date'].min())\n",
        "print(\"Last Entry:    \",data['Date'].max())\n",
        "print(\"Total Days:    \",(data['Date'].max() - data['Date'].min()))"
      ],
      "execution_count": 7,
      "outputs": [
        {
          "output_type": "stream",
          "text": [
            "Dataset Description\n",
            "Earliest Entry:  2020-03-12 00:00:00\n",
            "Last Entry:     2020-10-10 00:00:00\n",
            "Total Days:     212 days 00:00:00\n"
          ],
          "name": "stdout"
        }
      ]
    },
    {
      "cell_type": "code",
      "metadata": {
        "id": "4XPkGSlmXWto",
        "outputId": "456ad1f7-8b5f-4391-9cfd-b3b48dcd157c",
        "colab": {
          "base_uri": "https://localhost:8080/",
          "height": 446
        }
      },
      "source": [
        "#statewise cases 12-03-2020 to 10-10-2020\n",
        "statewise= data.groupby(['Region','Date']).agg({\"Confirmed Cases\":'sum',\"Cured/Discharged\":'sum',\"Death\":'sum', 'Active Cases':'sum'})\n",
        "statewise"
      ],
      "execution_count": 8,
      "outputs": [
        {
          "output_type": "execute_result",
          "data": {
            "text/html": [
              "<div>\n",
              "<style scoped>\n",
              "    .dataframe tbody tr th:only-of-type {\n",
              "        vertical-align: middle;\n",
              "    }\n",
              "\n",
              "    .dataframe tbody tr th {\n",
              "        vertical-align: top;\n",
              "    }\n",
              "\n",
              "    .dataframe thead th {\n",
              "        text-align: right;\n",
              "    }\n",
              "</style>\n",
              "<table border=\"1\" class=\"dataframe\">\n",
              "  <thead>\n",
              "    <tr style=\"text-align: right;\">\n",
              "      <th></th>\n",
              "      <th></th>\n",
              "      <th>Confirmed Cases</th>\n",
              "      <th>Cured/Discharged</th>\n",
              "      <th>Death</th>\n",
              "      <th>Active Cases</th>\n",
              "    </tr>\n",
              "    <tr>\n",
              "      <th>Region</th>\n",
              "      <th>Date</th>\n",
              "      <th></th>\n",
              "      <th></th>\n",
              "      <th></th>\n",
              "      <th></th>\n",
              "    </tr>\n",
              "  </thead>\n",
              "  <tbody>\n",
              "    <tr>\n",
              "      <th rowspan=\"5\" valign=\"top\">Andaman and Nicobar Islands</th>\n",
              "      <th>2020-03-27</th>\n",
              "      <td>1</td>\n",
              "      <td>0.0</td>\n",
              "      <td>0.0</td>\n",
              "      <td>1</td>\n",
              "    </tr>\n",
              "    <tr>\n",
              "      <th>2020-03-28</th>\n",
              "      <td>6</td>\n",
              "      <td>0.0</td>\n",
              "      <td>0.0</td>\n",
              "      <td>6</td>\n",
              "    </tr>\n",
              "    <tr>\n",
              "      <th>2020-03-29</th>\n",
              "      <td>9</td>\n",
              "      <td>0.0</td>\n",
              "      <td>0.0</td>\n",
              "      <td>9</td>\n",
              "    </tr>\n",
              "    <tr>\n",
              "      <th>2020-03-30</th>\n",
              "      <td>9</td>\n",
              "      <td>0.0</td>\n",
              "      <td>0.0</td>\n",
              "      <td>9</td>\n",
              "    </tr>\n",
              "    <tr>\n",
              "      <th>2020-03-31</th>\n",
              "      <td>10</td>\n",
              "      <td>0.0</td>\n",
              "      <td>0.0</td>\n",
              "      <td>10</td>\n",
              "    </tr>\n",
              "    <tr>\n",
              "      <th>...</th>\n",
              "      <th>...</th>\n",
              "      <td>...</td>\n",
              "      <td>...</td>\n",
              "      <td>...</td>\n",
              "      <td>...</td>\n",
              "    </tr>\n",
              "    <tr>\n",
              "      <th rowspan=\"5\" valign=\"top\">West Bengal</th>\n",
              "      <th>2020-10-06</th>\n",
              "      <td>273679</td>\n",
              "      <td>240707.0</td>\n",
              "      <td>5255.0</td>\n",
              "      <td>27717</td>\n",
              "    </tr>\n",
              "    <tr>\n",
              "      <th>2020-10-07</th>\n",
              "      <td>277049</td>\n",
              "      <td>243743.0</td>\n",
              "      <td>5318.0</td>\n",
              "      <td>27988</td>\n",
              "    </tr>\n",
              "    <tr>\n",
              "      <th>2020-10-08</th>\n",
              "      <td>280504</td>\n",
              "      <td>246767.0</td>\n",
              "      <td>5376.0</td>\n",
              "      <td>28361</td>\n",
              "    </tr>\n",
              "    <tr>\n",
              "      <th>2020-10-09</th>\n",
              "      <td>284030</td>\n",
              "      <td>249737.0</td>\n",
              "      <td>5439.0</td>\n",
              "      <td>28854</td>\n",
              "    </tr>\n",
              "    <tr>\n",
              "      <th>2020-10-10</th>\n",
              "      <td>287603</td>\n",
              "      <td>252806.0</td>\n",
              "      <td>5501.0</td>\n",
              "      <td>29296</td>\n",
              "    </tr>\n",
              "  </tbody>\n",
              "</table>\n",
              "<p>7165 rows × 4 columns</p>\n",
              "</div>"
            ],
            "text/plain": [
              "                                        Confirmed Cases  ...  Active Cases\n",
              "Region                      Date                         ...              \n",
              "Andaman and Nicobar Islands 2020-03-27                1  ...             1\n",
              "                            2020-03-28                6  ...             6\n",
              "                            2020-03-29                9  ...             9\n",
              "                            2020-03-30                9  ...             9\n",
              "                            2020-03-31               10  ...            10\n",
              "...                                                 ...  ...           ...\n",
              "West Bengal                 2020-10-06           273679  ...         27717\n",
              "                            2020-10-07           277049  ...         27988\n",
              "                            2020-10-08           280504  ...         28361\n",
              "                            2020-10-09           284030  ...         28854\n",
              "                            2020-10-10           287603  ...         29296\n",
              "\n",
              "[7165 rows x 4 columns]"
            ]
          },
          "metadata": {
            "tags": []
          },
          "execution_count": 8
        }
      ]
    },
    {
      "cell_type": "code",
      "metadata": {
        "id": "sIPGRALwXa0u",
        "outputId": "21fbb89c-1262-499b-dbea-eb0c0d3fce53",
        "colab": {
          "base_uri": "https://localhost:8080/",
          "height": 542
        }
      },
      "source": [
        "activecases=statewise['Active Cases'].sum()\n",
        "cured=statewise['Cured/Discharged'].sum()\n",
        "death=statewise['Death'].sum()\n",
        "\n",
        "labels=['Active Cases','Cured/Discharged','Death']\n",
        "values=[activecases,cured,death]\n",
        "fig = go.Figure(data=[go.Pie(labels=labels, values=values)])\n",
        "fig.update_layout(title=\" Pie chart of Different types of cases\")\n",
        "fig.show() "
      ],
      "execution_count": 9,
      "outputs": [
        {
          "output_type": "display_data",
          "data": {
            "text/html": [
              "<div>\n",
              "        \n",
              "        \n",
              "            <div id=\"591672ce-3317-43fc-bc6b-f1e6f73c07df\" class=\"plotly-graph-div\" style=\"height:525px; width:100%;\"></div>\n",
              "            <script type=\"text/javascript\">\n",
              "                require([\"plotly\"], function(Plotly) {\n",
              "                    window.PLOTLYENV=window.PLOTLYENV || {};\n",
              "                    \n",
              "                if (document.getElementById(\"591672ce-3317-43fc-bc6b-f1e6f73c07df\")) {\n",
              "                    Plotly.newPlot(\n",
              "                        '591672ce-3317-43fc-bc6b-f1e6f73c07df',\n",
              "                        [{\"labels\": [\"Active Cases\", \"Cured/Discharged\", \"Death\"], \"type\": \"pie\", \"values\": [75473682, 260309033.0, 6244405.0]}],\n",
              "                        {\"template\": {\"data\": {\"bar\": [{\"error_x\": {\"color\": \"#2a3f5f\"}, \"error_y\": {\"color\": \"#2a3f5f\"}, \"marker\": {\"line\": {\"color\": \"#E5ECF6\", \"width\": 0.5}}, \"type\": \"bar\"}], \"barpolar\": [{\"marker\": {\"line\": {\"color\": \"#E5ECF6\", \"width\": 0.5}}, \"type\": \"barpolar\"}], \"carpet\": [{\"aaxis\": {\"endlinecolor\": \"#2a3f5f\", \"gridcolor\": \"white\", \"linecolor\": \"white\", \"minorgridcolor\": \"white\", \"startlinecolor\": \"#2a3f5f\"}, \"baxis\": {\"endlinecolor\": \"#2a3f5f\", \"gridcolor\": \"white\", \"linecolor\": \"white\", \"minorgridcolor\": \"white\", \"startlinecolor\": \"#2a3f5f\"}, \"type\": \"carpet\"}], \"choropleth\": [{\"colorbar\": {\"outlinewidth\": 0, \"ticks\": \"\"}, \"type\": \"choropleth\"}], \"contour\": [{\"colorbar\": {\"outlinewidth\": 0, \"ticks\": \"\"}, \"colorscale\": [[0.0, \"#0d0887\"], [0.1111111111111111, \"#46039f\"], [0.2222222222222222, \"#7201a8\"], [0.3333333333333333, \"#9c179e\"], [0.4444444444444444, \"#bd3786\"], [0.5555555555555556, \"#d8576b\"], [0.6666666666666666, \"#ed7953\"], [0.7777777777777778, \"#fb9f3a\"], [0.8888888888888888, \"#fdca26\"], [1.0, \"#f0f921\"]], \"type\": \"contour\"}], \"contourcarpet\": [{\"colorbar\": {\"outlinewidth\": 0, \"ticks\": \"\"}, \"type\": \"contourcarpet\"}], \"heatmap\": [{\"colorbar\": {\"outlinewidth\": 0, \"ticks\": \"\"}, \"colorscale\": [[0.0, \"#0d0887\"], [0.1111111111111111, \"#46039f\"], [0.2222222222222222, \"#7201a8\"], [0.3333333333333333, \"#9c179e\"], [0.4444444444444444, \"#bd3786\"], [0.5555555555555556, \"#d8576b\"], [0.6666666666666666, \"#ed7953\"], [0.7777777777777778, \"#fb9f3a\"], [0.8888888888888888, \"#fdca26\"], [1.0, \"#f0f921\"]], \"type\": \"heatmap\"}], \"heatmapgl\": [{\"colorbar\": {\"outlinewidth\": 0, \"ticks\": \"\"}, \"colorscale\": [[0.0, \"#0d0887\"], [0.1111111111111111, \"#46039f\"], [0.2222222222222222, \"#7201a8\"], [0.3333333333333333, \"#9c179e\"], [0.4444444444444444, \"#bd3786\"], [0.5555555555555556, \"#d8576b\"], [0.6666666666666666, \"#ed7953\"], [0.7777777777777778, \"#fb9f3a\"], [0.8888888888888888, \"#fdca26\"], [1.0, \"#f0f921\"]], \"type\": \"heatmapgl\"}], \"histogram\": [{\"marker\": {\"colorbar\": {\"outlinewidth\": 0, \"ticks\": \"\"}}, \"type\": \"histogram\"}], \"histogram2d\": [{\"colorbar\": {\"outlinewidth\": 0, \"ticks\": \"\"}, \"colorscale\": [[0.0, \"#0d0887\"], [0.1111111111111111, \"#46039f\"], [0.2222222222222222, \"#7201a8\"], [0.3333333333333333, \"#9c179e\"], [0.4444444444444444, \"#bd3786\"], [0.5555555555555556, \"#d8576b\"], [0.6666666666666666, \"#ed7953\"], [0.7777777777777778, \"#fb9f3a\"], [0.8888888888888888, \"#fdca26\"], [1.0, \"#f0f921\"]], \"type\": \"histogram2d\"}], \"histogram2dcontour\": [{\"colorbar\": {\"outlinewidth\": 0, \"ticks\": \"\"}, \"colorscale\": [[0.0, \"#0d0887\"], [0.1111111111111111, \"#46039f\"], [0.2222222222222222, \"#7201a8\"], [0.3333333333333333, \"#9c179e\"], [0.4444444444444444, \"#bd3786\"], [0.5555555555555556, \"#d8576b\"], [0.6666666666666666, \"#ed7953\"], [0.7777777777777778, \"#fb9f3a\"], [0.8888888888888888, \"#fdca26\"], [1.0, \"#f0f921\"]], \"type\": \"histogram2dcontour\"}], \"mesh3d\": [{\"colorbar\": {\"outlinewidth\": 0, \"ticks\": \"\"}, \"type\": \"mesh3d\"}], \"parcoords\": [{\"line\": {\"colorbar\": {\"outlinewidth\": 0, \"ticks\": \"\"}}, \"type\": \"parcoords\"}], \"pie\": [{\"automargin\": true, \"type\": \"pie\"}], \"scatter\": [{\"marker\": {\"colorbar\": {\"outlinewidth\": 0, \"ticks\": \"\"}}, \"type\": \"scatter\"}], \"scatter3d\": [{\"line\": {\"colorbar\": {\"outlinewidth\": 0, \"ticks\": \"\"}}, \"marker\": {\"colorbar\": {\"outlinewidth\": 0, \"ticks\": \"\"}}, \"type\": \"scatter3d\"}], \"scattercarpet\": [{\"marker\": {\"colorbar\": {\"outlinewidth\": 0, \"ticks\": \"\"}}, \"type\": \"scattercarpet\"}], \"scattergeo\": [{\"marker\": {\"colorbar\": {\"outlinewidth\": 0, \"ticks\": \"\"}}, \"type\": \"scattergeo\"}], \"scattergl\": [{\"marker\": {\"colorbar\": {\"outlinewidth\": 0, \"ticks\": \"\"}}, \"type\": \"scattergl\"}], \"scattermapbox\": [{\"marker\": {\"colorbar\": {\"outlinewidth\": 0, \"ticks\": \"\"}}, \"type\": \"scattermapbox\"}], \"scatterpolar\": [{\"marker\": {\"colorbar\": {\"outlinewidth\": 0, \"ticks\": \"\"}}, \"type\": \"scatterpolar\"}], \"scatterpolargl\": [{\"marker\": {\"colorbar\": {\"outlinewidth\": 0, \"ticks\": \"\"}}, \"type\": \"scatterpolargl\"}], \"scatterternary\": [{\"marker\": {\"colorbar\": {\"outlinewidth\": 0, \"ticks\": \"\"}}, \"type\": \"scatterternary\"}], \"surface\": [{\"colorbar\": {\"outlinewidth\": 0, \"ticks\": \"\"}, \"colorscale\": [[0.0, \"#0d0887\"], [0.1111111111111111, \"#46039f\"], [0.2222222222222222, \"#7201a8\"], [0.3333333333333333, \"#9c179e\"], [0.4444444444444444, \"#bd3786\"], [0.5555555555555556, \"#d8576b\"], [0.6666666666666666, \"#ed7953\"], [0.7777777777777778, \"#fb9f3a\"], [0.8888888888888888, \"#fdca26\"], [1.0, \"#f0f921\"]], \"type\": \"surface\"}], \"table\": [{\"cells\": {\"fill\": {\"color\": \"#EBF0F8\"}, \"line\": {\"color\": \"white\"}}, \"header\": {\"fill\": {\"color\": \"#C8D4E3\"}, \"line\": {\"color\": \"white\"}}, \"type\": \"table\"}]}, \"layout\": {\"annotationdefaults\": {\"arrowcolor\": \"#2a3f5f\", \"arrowhead\": 0, \"arrowwidth\": 1}, \"coloraxis\": {\"colorbar\": {\"outlinewidth\": 0, \"ticks\": \"\"}}, \"colorscale\": {\"diverging\": [[0, \"#8e0152\"], [0.1, \"#c51b7d\"], [0.2, \"#de77ae\"], [0.3, \"#f1b6da\"], [0.4, \"#fde0ef\"], [0.5, \"#f7f7f7\"], [0.6, \"#e6f5d0\"], [0.7, \"#b8e186\"], [0.8, \"#7fbc41\"], [0.9, \"#4d9221\"], [1, \"#276419\"]], \"sequential\": [[0.0, \"#0d0887\"], [0.1111111111111111, \"#46039f\"], [0.2222222222222222, \"#7201a8\"], [0.3333333333333333, \"#9c179e\"], [0.4444444444444444, \"#bd3786\"], [0.5555555555555556, \"#d8576b\"], [0.6666666666666666, \"#ed7953\"], [0.7777777777777778, \"#fb9f3a\"], [0.8888888888888888, \"#fdca26\"], [1.0, \"#f0f921\"]], \"sequentialminus\": [[0.0, \"#0d0887\"], [0.1111111111111111, \"#46039f\"], [0.2222222222222222, \"#7201a8\"], [0.3333333333333333, \"#9c179e\"], [0.4444444444444444, \"#bd3786\"], [0.5555555555555556, \"#d8576b\"], [0.6666666666666666, \"#ed7953\"], [0.7777777777777778, \"#fb9f3a\"], [0.8888888888888888, \"#fdca26\"], [1.0, \"#f0f921\"]]}, \"colorway\": [\"#636efa\", \"#EF553B\", \"#00cc96\", \"#ab63fa\", \"#FFA15A\", \"#19d3f3\", \"#FF6692\", \"#B6E880\", \"#FF97FF\", \"#FECB52\"], \"font\": {\"color\": \"#2a3f5f\"}, \"geo\": {\"bgcolor\": \"white\", \"lakecolor\": \"white\", \"landcolor\": \"#E5ECF6\", \"showlakes\": true, \"showland\": true, \"subunitcolor\": \"white\"}, \"hoverlabel\": {\"align\": \"left\"}, \"hovermode\": \"closest\", \"mapbox\": {\"style\": \"light\"}, \"paper_bgcolor\": \"white\", \"plot_bgcolor\": \"#E5ECF6\", \"polar\": {\"angularaxis\": {\"gridcolor\": \"white\", \"linecolor\": \"white\", \"ticks\": \"\"}, \"bgcolor\": \"#E5ECF6\", \"radialaxis\": {\"gridcolor\": \"white\", \"linecolor\": \"white\", \"ticks\": \"\"}}, \"scene\": {\"xaxis\": {\"backgroundcolor\": \"#E5ECF6\", \"gridcolor\": \"white\", \"gridwidth\": 2, \"linecolor\": \"white\", \"showbackground\": true, \"ticks\": \"\", \"zerolinecolor\": \"white\"}, \"yaxis\": {\"backgroundcolor\": \"#E5ECF6\", \"gridcolor\": \"white\", \"gridwidth\": 2, \"linecolor\": \"white\", \"showbackground\": true, \"ticks\": \"\", \"zerolinecolor\": \"white\"}, \"zaxis\": {\"backgroundcolor\": \"#E5ECF6\", \"gridcolor\": \"white\", \"gridwidth\": 2, \"linecolor\": \"white\", \"showbackground\": true, \"ticks\": \"\", \"zerolinecolor\": \"white\"}}, \"shapedefaults\": {\"line\": {\"color\": \"#2a3f5f\"}}, \"ternary\": {\"aaxis\": {\"gridcolor\": \"white\", \"linecolor\": \"white\", \"ticks\": \"\"}, \"baxis\": {\"gridcolor\": \"white\", \"linecolor\": \"white\", \"ticks\": \"\"}, \"bgcolor\": \"#E5ECF6\", \"caxis\": {\"gridcolor\": \"white\", \"linecolor\": \"white\", \"ticks\": \"\"}}, \"title\": {\"x\": 0.05}, \"xaxis\": {\"automargin\": true, \"gridcolor\": \"white\", \"linecolor\": \"white\", \"ticks\": \"\", \"title\": {\"standoff\": 15}, \"zerolinecolor\": \"white\", \"zerolinewidth\": 2}, \"yaxis\": {\"automargin\": true, \"gridcolor\": \"white\", \"linecolor\": \"white\", \"ticks\": \"\", \"title\": {\"standoff\": 15}, \"zerolinecolor\": \"white\", \"zerolinewidth\": 2}}}, \"title\": {\"text\": \" Pie chart of Different types of cases\"}},\n",
              "                        {\"responsive\": true}\n",
              "                    ).then(function(){\n",
              "                            \n",
              "var gd = document.getElementById('591672ce-3317-43fc-bc6b-f1e6f73c07df');\n",
              "var x = new MutationObserver(function (mutations, observer) {{\n",
              "        var display = window.getComputedStyle(gd).display;\n",
              "        if (!display || display === 'none') {{\n",
              "            console.log([gd, 'removed!']);\n",
              "            Plotly.purge(gd);\n",
              "            observer.disconnect();\n",
              "        }}\n",
              "}});\n",
              "\n",
              "// Listen for the removal of the full notebook cells\n",
              "var notebookContainer = gd.closest('#notebook-container');\n",
              "if (notebookContainer) {{\n",
              "    x.observe(notebookContainer, {childList: true});\n",
              "}}\n",
              "\n",
              "// Listen for the clearing of the current output cell\n",
              "var outputEl = gd.closest('.output');\n",
              "if (outputEl) {{\n",
              "    x.observe(outputEl, {childList: true});\n",
              "}}\n",
              "\n",
              "                        })\n",
              "                };\n",
              "                });\n",
              "            </script>\n",
              "        </div>"
            ],
            "application/vnd.plotly.v1+json": {
              "data": [
                {
                  "values": [
                    75473682,
                    260309033,
                    6244405
                  ],
                  "labels": [
                    "Active Cases",
                    "Cured/Discharged",
                    "Death"
                  ],
                  "type": "pie"
                }
              ],
              "config": {
                "plotlyServerURL": "https://plot.ly"
              },
              "layout": {
                "template": {
                  "layout": {
                    "shapedefaults": {
                      "line": {
                        "color": "#2a3f5f"
                      }
                    },
                    "polar": {
                      "radialaxis": {
                        "ticks": "",
                        "gridcolor": "white",
                        "linecolor": "white"
                      },
                      "bgcolor": "#E5ECF6",
                      "angularaxis": {
                        "ticks": "",
                        "gridcolor": "white",
                        "linecolor": "white"
                      }
                    },
                    "colorway": [
                      "#636efa",
                      "#EF553B",
                      "#00cc96",
                      "#ab63fa",
                      "#FFA15A",
                      "#19d3f3",
                      "#FF6692",
                      "#B6E880",
                      "#FF97FF",
                      "#FECB52"
                    ],
                    "xaxis": {
                      "automargin": true,
                      "title": {
                        "standoff": 15
                      },
                      "zerolinewidth": 2,
                      "ticks": "",
                      "zerolinecolor": "white",
                      "gridcolor": "white",
                      "linecolor": "white"
                    },
                    "colorscale": {
                      "diverging": [
                        [
                          0,
                          "#8e0152"
                        ],
                        [
                          0.1,
                          "#c51b7d"
                        ],
                        [
                          0.2,
                          "#de77ae"
                        ],
                        [
                          0.3,
                          "#f1b6da"
                        ],
                        [
                          0.4,
                          "#fde0ef"
                        ],
                        [
                          0.5,
                          "#f7f7f7"
                        ],
                        [
                          0.6,
                          "#e6f5d0"
                        ],
                        [
                          0.7,
                          "#b8e186"
                        ],
                        [
                          0.8,
                          "#7fbc41"
                        ],
                        [
                          0.9,
                          "#4d9221"
                        ],
                        [
                          1,
                          "#276419"
                        ]
                      ],
                      "sequential": [
                        [
                          0,
                          "#0d0887"
                        ],
                        [
                          0.1111111111111111,
                          "#46039f"
                        ],
                        [
                          0.2222222222222222,
                          "#7201a8"
                        ],
                        [
                          0.3333333333333333,
                          "#9c179e"
                        ],
                        [
                          0.4444444444444444,
                          "#bd3786"
                        ],
                        [
                          0.5555555555555556,
                          "#d8576b"
                        ],
                        [
                          0.6666666666666666,
                          "#ed7953"
                        ],
                        [
                          0.7777777777777778,
                          "#fb9f3a"
                        ],
                        [
                          0.8888888888888888,
                          "#fdca26"
                        ],
                        [
                          1,
                          "#f0f921"
                        ]
                      ],
                      "sequentialminus": [
                        [
                          0,
                          "#0d0887"
                        ],
                        [
                          0.1111111111111111,
                          "#46039f"
                        ],
                        [
                          0.2222222222222222,
                          "#7201a8"
                        ],
                        [
                          0.3333333333333333,
                          "#9c179e"
                        ],
                        [
                          0.4444444444444444,
                          "#bd3786"
                        ],
                        [
                          0.5555555555555556,
                          "#d8576b"
                        ],
                        [
                          0.6666666666666666,
                          "#ed7953"
                        ],
                        [
                          0.7777777777777778,
                          "#fb9f3a"
                        ],
                        [
                          0.8888888888888888,
                          "#fdca26"
                        ],
                        [
                          1,
                          "#f0f921"
                        ]
                      ]
                    },
                    "paper_bgcolor": "white",
                    "plot_bgcolor": "#E5ECF6",
                    "title": {
                      "x": 0.05
                    },
                    "scene": {
                      "zaxis": {
                        "backgroundcolor": "#E5ECF6",
                        "ticks": "",
                        "gridwidth": 2,
                        "showbackground": true,
                        "zerolinecolor": "white",
                        "gridcolor": "white",
                        "linecolor": "white"
                      },
                      "xaxis": {
                        "backgroundcolor": "#E5ECF6",
                        "ticks": "",
                        "gridwidth": 2,
                        "showbackground": true,
                        "zerolinecolor": "white",
                        "gridcolor": "white",
                        "linecolor": "white"
                      },
                      "yaxis": {
                        "backgroundcolor": "#E5ECF6",
                        "ticks": "",
                        "gridwidth": 2,
                        "showbackground": true,
                        "zerolinecolor": "white",
                        "gridcolor": "white",
                        "linecolor": "white"
                      }
                    },
                    "yaxis": {
                      "automargin": true,
                      "title": {
                        "standoff": 15
                      },
                      "zerolinewidth": 2,
                      "ticks": "",
                      "zerolinecolor": "white",
                      "gridcolor": "white",
                      "linecolor": "white"
                    },
                    "annotationdefaults": {
                      "arrowwidth": 1,
                      "arrowhead": 0,
                      "arrowcolor": "#2a3f5f"
                    },
                    "hoverlabel": {
                      "align": "left"
                    },
                    "ternary": {
                      "bgcolor": "#E5ECF6",
                      "baxis": {
                        "ticks": "",
                        "gridcolor": "white",
                        "linecolor": "white"
                      },
                      "caxis": {
                        "ticks": "",
                        "gridcolor": "white",
                        "linecolor": "white"
                      },
                      "aaxis": {
                        "ticks": "",
                        "gridcolor": "white",
                        "linecolor": "white"
                      }
                    },
                    "mapbox": {
                      "style": "light"
                    },
                    "hovermode": "closest",
                    "font": {
                      "color": "#2a3f5f"
                    },
                    "geo": {
                      "showland": true,
                      "landcolor": "#E5ECF6",
                      "showlakes": true,
                      "bgcolor": "white",
                      "subunitcolor": "white",
                      "lakecolor": "white"
                    },
                    "coloraxis": {
                      "colorbar": {
                        "outlinewidth": 0,
                        "ticks": ""
                      }
                    }
                  },
                  "data": {
                    "mesh3d": [
                      {
                        "colorbar": {
                          "outlinewidth": 0,
                          "ticks": ""
                        },
                        "type": "mesh3d"
                      }
                    ],
                    "scattercarpet": [
                      {
                        "marker": {
                          "colorbar": {
                            "outlinewidth": 0,
                            "ticks": ""
                          }
                        },
                        "type": "scattercarpet"
                      }
                    ],
                    "pie": [
                      {
                        "automargin": true,
                        "type": "pie"
                      }
                    ],
                    "surface": [
                      {
                        "colorbar": {
                          "outlinewidth": 0,
                          "ticks": ""
                        },
                        "type": "surface",
                        "colorscale": [
                          [
                            0,
                            "#0d0887"
                          ],
                          [
                            0.1111111111111111,
                            "#46039f"
                          ],
                          [
                            0.2222222222222222,
                            "#7201a8"
                          ],
                          [
                            0.3333333333333333,
                            "#9c179e"
                          ],
                          [
                            0.4444444444444444,
                            "#bd3786"
                          ],
                          [
                            0.5555555555555556,
                            "#d8576b"
                          ],
                          [
                            0.6666666666666666,
                            "#ed7953"
                          ],
                          [
                            0.7777777777777778,
                            "#fb9f3a"
                          ],
                          [
                            0.8888888888888888,
                            "#fdca26"
                          ],
                          [
                            1,
                            "#f0f921"
                          ]
                        ]
                      }
                    ],
                    "table": [
                      {
                        "header": {
                          "line": {
                            "color": "white"
                          },
                          "fill": {
                            "color": "#C8D4E3"
                          }
                        },
                        "cells": {
                          "line": {
                            "color": "white"
                          },
                          "fill": {
                            "color": "#EBF0F8"
                          }
                        },
                        "type": "table"
                      }
                    ],
                    "scatterpolargl": [
                      {
                        "marker": {
                          "colorbar": {
                            "outlinewidth": 0,
                            "ticks": ""
                          }
                        },
                        "type": "scatterpolargl"
                      }
                    ],
                    "contour": [
                      {
                        "colorbar": {
                          "outlinewidth": 0,
                          "ticks": ""
                        },
                        "type": "contour",
                        "colorscale": [
                          [
                            0,
                            "#0d0887"
                          ],
                          [
                            0.1111111111111111,
                            "#46039f"
                          ],
                          [
                            0.2222222222222222,
                            "#7201a8"
                          ],
                          [
                            0.3333333333333333,
                            "#9c179e"
                          ],
                          [
                            0.4444444444444444,
                            "#bd3786"
                          ],
                          [
                            0.5555555555555556,
                            "#d8576b"
                          ],
                          [
                            0.6666666666666666,
                            "#ed7953"
                          ],
                          [
                            0.7777777777777778,
                            "#fb9f3a"
                          ],
                          [
                            0.8888888888888888,
                            "#fdca26"
                          ],
                          [
                            1,
                            "#f0f921"
                          ]
                        ]
                      }
                    ],
                    "carpet": [
                      {
                        "type": "carpet",
                        "baxis": {
                          "minorgridcolor": "white",
                          "gridcolor": "white",
                          "linecolor": "white",
                          "endlinecolor": "#2a3f5f",
                          "startlinecolor": "#2a3f5f"
                        },
                        "aaxis": {
                          "minorgridcolor": "white",
                          "gridcolor": "white",
                          "linecolor": "white",
                          "endlinecolor": "#2a3f5f",
                          "startlinecolor": "#2a3f5f"
                        }
                      }
                    ],
                    "contourcarpet": [
                      {
                        "colorbar": {
                          "outlinewidth": 0,
                          "ticks": ""
                        },
                        "type": "contourcarpet"
                      }
                    ],
                    "heatmap": [
                      {
                        "colorbar": {
                          "outlinewidth": 0,
                          "ticks": ""
                        },
                        "type": "heatmap",
                        "colorscale": [
                          [
                            0,
                            "#0d0887"
                          ],
                          [
                            0.1111111111111111,
                            "#46039f"
                          ],
                          [
                            0.2222222222222222,
                            "#7201a8"
                          ],
                          [
                            0.3333333333333333,
                            "#9c179e"
                          ],
                          [
                            0.4444444444444444,
                            "#bd3786"
                          ],
                          [
                            0.5555555555555556,
                            "#d8576b"
                          ],
                          [
                            0.6666666666666666,
                            "#ed7953"
                          ],
                          [
                            0.7777777777777778,
                            "#fb9f3a"
                          ],
                          [
                            0.8888888888888888,
                            "#fdca26"
                          ],
                          [
                            1,
                            "#f0f921"
                          ]
                        ]
                      }
                    ],
                    "scattermapbox": [
                      {
                        "marker": {
                          "colorbar": {
                            "outlinewidth": 0,
                            "ticks": ""
                          }
                        },
                        "type": "scattermapbox"
                      }
                    ],
                    "scatter3d": [
                      {
                        "marker": {
                          "colorbar": {
                            "outlinewidth": 0,
                            "ticks": ""
                          }
                        },
                        "line": {
                          "colorbar": {
                            "outlinewidth": 0,
                            "ticks": ""
                          }
                        },
                        "type": "scatter3d"
                      }
                    ],
                    "scattergl": [
                      {
                        "marker": {
                          "colorbar": {
                            "outlinewidth": 0,
                            "ticks": ""
                          }
                        },
                        "type": "scattergl"
                      }
                    ],
                    "scatterternary": [
                      {
                        "marker": {
                          "colorbar": {
                            "outlinewidth": 0,
                            "ticks": ""
                          }
                        },
                        "type": "scatterternary"
                      }
                    ],
                    "histogram": [
                      {
                        "marker": {
                          "colorbar": {
                            "outlinewidth": 0,
                            "ticks": ""
                          }
                        },
                        "type": "histogram"
                      }
                    ],
                    "heatmapgl": [
                      {
                        "colorbar": {
                          "outlinewidth": 0,
                          "ticks": ""
                        },
                        "type": "heatmapgl",
                        "colorscale": [
                          [
                            0,
                            "#0d0887"
                          ],
                          [
                            0.1111111111111111,
                            "#46039f"
                          ],
                          [
                            0.2222222222222222,
                            "#7201a8"
                          ],
                          [
                            0.3333333333333333,
                            "#9c179e"
                          ],
                          [
                            0.4444444444444444,
                            "#bd3786"
                          ],
                          [
                            0.5555555555555556,
                            "#d8576b"
                          ],
                          [
                            0.6666666666666666,
                            "#ed7953"
                          ],
                          [
                            0.7777777777777778,
                            "#fb9f3a"
                          ],
                          [
                            0.8888888888888888,
                            "#fdca26"
                          ],
                          [
                            1,
                            "#f0f921"
                          ]
                        ]
                      }
                    ],
                    "scatterpolar": [
                      {
                        "marker": {
                          "colorbar": {
                            "outlinewidth": 0,
                            "ticks": ""
                          }
                        },
                        "type": "scatterpolar"
                      }
                    ],
                    "histogram2d": [
                      {
                        "colorbar": {
                          "outlinewidth": 0,
                          "ticks": ""
                        },
                        "type": "histogram2d",
                        "colorscale": [
                          [
                            0,
                            "#0d0887"
                          ],
                          [
                            0.1111111111111111,
                            "#46039f"
                          ],
                          [
                            0.2222222222222222,
                            "#7201a8"
                          ],
                          [
                            0.3333333333333333,
                            "#9c179e"
                          ],
                          [
                            0.4444444444444444,
                            "#bd3786"
                          ],
                          [
                            0.5555555555555556,
                            "#d8576b"
                          ],
                          [
                            0.6666666666666666,
                            "#ed7953"
                          ],
                          [
                            0.7777777777777778,
                            "#fb9f3a"
                          ],
                          [
                            0.8888888888888888,
                            "#fdca26"
                          ],
                          [
                            1,
                            "#f0f921"
                          ]
                        ]
                      }
                    ],
                    "scattergeo": [
                      {
                        "marker": {
                          "colorbar": {
                            "outlinewidth": 0,
                            "ticks": ""
                          }
                        },
                        "type": "scattergeo"
                      }
                    ],
                    "bar": [
                      {
                        "marker": {
                          "line": {
                            "color": "#E5ECF6",
                            "width": 0.5
                          }
                        },
                        "type": "bar",
                        "error_x": {
                          "color": "#2a3f5f"
                        },
                        "error_y": {
                          "color": "#2a3f5f"
                        }
                      }
                    ],
                    "choropleth": [
                      {
                        "colorbar": {
                          "outlinewidth": 0,
                          "ticks": ""
                        },
                        "type": "choropleth"
                      }
                    ],
                    "parcoords": [
                      {
                        "line": {
                          "colorbar": {
                            "outlinewidth": 0,
                            "ticks": ""
                          }
                        },
                        "type": "parcoords"
                      }
                    ],
                    "barpolar": [
                      {
                        "marker": {
                          "line": {
                            "color": "#E5ECF6",
                            "width": 0.5
                          }
                        },
                        "type": "barpolar"
                      }
                    ],
                    "histogram2dcontour": [
                      {
                        "colorbar": {
                          "outlinewidth": 0,
                          "ticks": ""
                        },
                        "type": "histogram2dcontour",
                        "colorscale": [
                          [
                            0,
                            "#0d0887"
                          ],
                          [
                            0.1111111111111111,
                            "#46039f"
                          ],
                          [
                            0.2222222222222222,
                            "#7201a8"
                          ],
                          [
                            0.3333333333333333,
                            "#9c179e"
                          ],
                          [
                            0.4444444444444444,
                            "#bd3786"
                          ],
                          [
                            0.5555555555555556,
                            "#d8576b"
                          ],
                          [
                            0.6666666666666666,
                            "#ed7953"
                          ],
                          [
                            0.7777777777777778,
                            "#fb9f3a"
                          ],
                          [
                            0.8888888888888888,
                            "#fdca26"
                          ],
                          [
                            1,
                            "#f0f921"
                          ]
                        ]
                      }
                    ],
                    "scatter": [
                      {
                        "marker": {
                          "colorbar": {
                            "outlinewidth": 0,
                            "ticks": ""
                          }
                        },
                        "type": "scatter"
                      }
                    ]
                  }
                },
                "title": {
                  "text": " Pie chart of Different types of cases"
                }
              }
            }
          },
          "metadata": {
            "tags": []
          }
        }
      ]
    },
    {
      "cell_type": "code",
      "metadata": {
        "id": "yQvYBLBSXmnQ",
        "outputId": "15c468c1-aa54-47be-bf33-09f7b0998f77",
        "colab": {
          "base_uri": "https://localhost:8080/",
          "height": 233
        }
      },
      "source": [
        "#datawise cases from 12-03-2020 to 10-10-2020\n",
        "datewise= data.groupby(['Date']).agg({\"Confirmed Cases\":'sum',\"Cured/Discharged\":'sum',\"Death\":'sum',\"Active Cases\":'sum'})\n",
        "datewise.tail()"
      ],
      "execution_count": 10,
      "outputs": [
        {
          "output_type": "execute_result",
          "data": {
            "text/html": [
              "<div>\n",
              "<style scoped>\n",
              "    .dataframe tbody tr th:only-of-type {\n",
              "        vertical-align: middle;\n",
              "    }\n",
              "\n",
              "    .dataframe tbody tr th {\n",
              "        vertical-align: top;\n",
              "    }\n",
              "\n",
              "    .dataframe thead th {\n",
              "        text-align: right;\n",
              "    }\n",
              "</style>\n",
              "<table border=\"1\" class=\"dataframe\">\n",
              "  <thead>\n",
              "    <tr style=\"text-align: right;\">\n",
              "      <th></th>\n",
              "      <th>Confirmed Cases</th>\n",
              "      <th>Cured/Discharged</th>\n",
              "      <th>Death</th>\n",
              "      <th>Active Cases</th>\n",
              "    </tr>\n",
              "    <tr>\n",
              "      <th>Date</th>\n",
              "      <th></th>\n",
              "      <th></th>\n",
              "      <th></th>\n",
              "      <th></th>\n",
              "    </tr>\n",
              "  </thead>\n",
              "  <tbody>\n",
              "    <tr>\n",
              "      <th>2020-10-06</th>\n",
              "      <td>6685082</td>\n",
              "      <td>5662490.0</td>\n",
              "      <td>103569.0</td>\n",
              "      <td>919023</td>\n",
              "    </tr>\n",
              "    <tr>\n",
              "      <th>2020-10-07</th>\n",
              "      <td>6757131</td>\n",
              "      <td>5744693.0</td>\n",
              "      <td>104555.0</td>\n",
              "      <td>907883</td>\n",
              "    </tr>\n",
              "    <tr>\n",
              "      <th>2020-10-08</th>\n",
              "      <td>6835655</td>\n",
              "      <td>5827704.0</td>\n",
              "      <td>105526.0</td>\n",
              "      <td>902425</td>\n",
              "    </tr>\n",
              "    <tr>\n",
              "      <th>2020-10-09</th>\n",
              "      <td>6906151</td>\n",
              "      <td>5906069.0</td>\n",
              "      <td>106490.0</td>\n",
              "      <td>893592</td>\n",
              "    </tr>\n",
              "    <tr>\n",
              "      <th>2020-10-10</th>\n",
              "      <td>6979423</td>\n",
              "      <td>5988822.0</td>\n",
              "      <td>107416.0</td>\n",
              "      <td>883185</td>\n",
              "    </tr>\n",
              "  </tbody>\n",
              "</table>\n",
              "</div>"
            ],
            "text/plain": [
              "            Confirmed Cases  Cured/Discharged     Death  Active Cases\n",
              "Date                                                                 \n",
              "2020-10-06          6685082         5662490.0  103569.0        919023\n",
              "2020-10-07          6757131         5744693.0  104555.0        907883\n",
              "2020-10-08          6835655         5827704.0  105526.0        902425\n",
              "2020-10-09          6906151         5906069.0  106490.0        893592\n",
              "2020-10-10          6979423         5988822.0  107416.0        883185"
            ]
          },
          "metadata": {
            "tags": []
          },
          "execution_count": 10
        }
      ]
    },
    {
      "cell_type": "code",
      "metadata": {
        "id": "qyxe9oezXsKH",
        "outputId": "c7c8c63a-3d46-47ee-bfc5-824141a3ce76",
        "colab": {
          "base_uri": "https://localhost:8080/",
          "height": 87
        }
      },
      "source": [
        "print(\"No. of States/UT suffering: \",len(data['Region'].unique()))\n",
        "print(\"Total Confirmed Cases in India:  \",datewise['Confirmed Cases'].iloc[-1])\n",
        "print(\"Total Recovered Cases in India:  \",datewise['Cured/Discharged'].iloc[-1])\n",
        "print(\"Total Death Cases in India:  \",datewise['Death'].iloc[-1])"
      ],
      "execution_count": 11,
      "outputs": [
        {
          "output_type": "stream",
          "text": [
            "No. of States/UT suffering:  37\n",
            "Total Confirmed Cases in India:   6979423\n",
            "Total Recovered Cases in India:   5988822.0\n",
            "Total Death Cases in India:   107416.0\n"
          ],
          "name": "stdout"
        }
      ]
    },
    {
      "cell_type": "code",
      "metadata": {
        "id": "juMByq1IXtUP",
        "outputId": "1255c9ef-5296-4c55-a427-3452700cb3d1",
        "colab": {
          "base_uri": "https://localhost:8080/",
          "height": 542
        }
      },
      "source": [
        "fig= go.Figure()\n",
        "\n",
        "fig.add_trace(go.Scatter(x=datewise.index, y=datewise['Confirmed Cases'], mode='lines+markers', name='Confirmed Cases'))\n",
        "fig.add_trace(go.Scatter(x=datewise.index, y=datewise['Cured/Discharged'], mode='lines+markers', name='Cured Cases'))\n",
        "fig.add_trace(go.Scatter(x=datewise.index, y=datewise['Death'], mode='lines+markers', name='Death Cases'))\n",
        "\n",
        "fig.update_layout(title=\" Growth of Different types of cases\", xaxis_title=\"Date\", yaxis_title=\"Number of Cases\", legend= dict(x=0, y=1, traceorder=\"normal\"))\n",
        "fig.show()"
      ],
      "execution_count": 12,
      "outputs": [
        {
          "output_type": "display_data",
          "data": {
            "text/html": [
              "<div>\n",
              "        \n",
              "        \n",
              "            <div id=\"c6d66a4c-61d4-419a-9bc7-9acaf66712f3\" class=\"plotly-graph-div\" style=\"height:525px; width:100%;\"></div>\n",
              "            <script type=\"text/javascript\">\n",
              "                require([\"plotly\"], function(Plotly) {\n",
              "                    window.PLOTLYENV=window.PLOTLYENV || {};\n",
              "                    \n",
              "                if (document.getElementById(\"c6d66a4c-61d4-419a-9bc7-9acaf66712f3\")) {\n",
              "                    Plotly.newPlot(\n",
              "                        'c6d66a4c-61d4-419a-9bc7-9acaf66712f3',\n",
              "                        [{\"mode\": \"lines+markers\", \"name\": \"Confirmed Cases\", \"type\": \"scatter\", \"x\": [\"2020-03-12T00:00:00\", \"2020-03-13T00:00:00\", \"2020-03-14T00:00:00\", \"2020-03-15T00:00:00\", \"2020-03-16T00:00:00\", \"2020-03-17T00:00:00\", \"2020-03-18T00:00:00\", \"2020-03-19T00:00:00\", \"2020-03-20T00:00:00\", \"2020-03-21T00:00:00\", \"2020-03-22T00:00:00\", \"2020-03-23T00:00:00\", \"2020-03-24T00:00:00\", \"2020-03-25T00:00:00\", \"2020-03-26T00:00:00\", \"2020-03-27T00:00:00\", \"2020-03-28T00:00:00\", \"2020-03-29T00:00:00\", \"2020-03-30T00:00:00\", \"2020-03-31T00:00:00\", \"2020-04-01T00:00:00\", \"2020-04-02T00:00:00\", \"2020-04-03T00:00:00\", \"2020-04-04T00:00:00\", \"2020-04-05T00:00:00\", \"2020-04-06T00:00:00\", \"2020-04-07T00:00:00\", \"2020-04-08T00:00:00\", \"2020-04-09T00:00:00\", \"2020-04-10T00:00:00\", \"2020-04-11T00:00:00\", \"2020-04-12T00:00:00\", \"2020-04-13T00:00:00\", \"2020-04-14T00:00:00\", \"2020-04-15T00:00:00\", \"2020-04-16T00:00:00\", \"2020-04-17T00:00:00\", \"2020-04-18T00:00:00\", \"2020-04-19T00:00:00\", \"2020-04-20T00:00:00\", \"2020-04-21T00:00:00\", \"2020-04-22T00:00:00\", \"2020-04-23T00:00:00\", \"2020-04-24T00:00:00\", \"2020-04-25T00:00:00\", \"2020-04-26T00:00:00\", \"2020-04-27T00:00:00\", \"2020-04-28T00:00:00\", \"2020-04-29T00:00:00\", \"2020-04-30T00:00:00\", \"2020-05-01T00:00:00\", \"2020-05-02T00:00:00\", \"2020-05-03T00:00:00\", \"2020-05-04T00:00:00\", \"2020-05-05T00:00:00\", \"2020-05-06T00:00:00\", \"2020-05-07T00:00:00\", \"2020-05-08T00:00:00\", \"2020-05-09T00:00:00\", \"2020-05-10T00:00:00\", \"2020-05-11T00:00:00\", \"2020-05-12T00:00:00\", \"2020-05-13T00:00:00\", \"2020-05-14T00:00:00\", \"2020-05-15T00:00:00\", \"2020-05-16T00:00:00\", \"2020-05-17T00:00:00\", \"2020-05-18T00:00:00\", \"2020-05-19T00:00:00\", \"2020-05-20T00:00:00\", \"2020-05-21T00:00:00\", \"2020-05-22T00:00:00\", \"2020-05-23T00:00:00\", \"2020-05-24T00:00:00\", \"2020-05-25T00:00:00\", \"2020-05-26T00:00:00\", \"2020-05-27T00:00:00\", \"2020-05-28T00:00:00\", \"2020-05-29T00:00:00\", \"2020-05-30T00:00:00\", \"2020-05-31T00:00:00\", \"2020-06-01T00:00:00\", \"2020-06-02T00:00:00\", \"2020-06-03T00:00:00\", \"2020-06-04T00:00:00\", \"2020-06-05T00:00:00\", \"2020-06-06T00:00:00\", \"2020-06-07T00:00:00\", \"2020-06-08T00:00:00\", \"2020-06-09T00:00:00\", \"2020-06-10T00:00:00\", \"2020-06-11T00:00:00\", \"2020-06-12T00:00:00\", \"2020-06-13T00:00:00\", \"2020-06-14T00:00:00\", \"2020-06-15T00:00:00\", \"2020-06-16T00:00:00\", \"2020-06-17T00:00:00\", \"2020-06-18T00:00:00\", \"2020-06-19T00:00:00\", \"2020-06-20T00:00:00\", \"2020-06-21T00:00:00\", \"2020-06-22T00:00:00\", \"2020-06-23T00:00:00\", \"2020-06-24T00:00:00\", \"2020-06-25T00:00:00\", \"2020-06-26T00:00:00\", \"2020-06-27T00:00:00\", \"2020-06-28T00:00:00\", \"2020-06-29T00:00:00\", \"2020-06-30T00:00:00\", \"2020-07-01T00:00:00\", \"2020-07-02T00:00:00\", \"2020-07-03T00:00:00\", \"2020-07-04T00:00:00\", \"2020-07-05T00:00:00\", \"2020-07-06T00:00:00\", \"2020-07-07T00:00:00\", \"2020-07-08T00:00:00\", \"2020-07-09T00:00:00\", \"2020-07-10T00:00:00\", \"2020-07-11T00:00:00\", \"2020-07-12T00:00:00\", \"2020-07-13T00:00:00\", \"2020-07-14T00:00:00\", \"2020-07-15T00:00:00\", \"2020-07-16T00:00:00\", \"2020-07-17T00:00:00\", \"2020-07-18T00:00:00\", \"2020-07-19T00:00:00\", \"2020-07-20T00:00:00\", \"2020-07-21T00:00:00\", \"2020-07-22T00:00:00\", \"2020-07-23T00:00:00\", \"2020-07-24T00:00:00\", \"2020-07-25T00:00:00\", \"2020-07-26T00:00:00\", \"2020-07-27T00:00:00\", \"2020-07-28T00:00:00\", \"2020-07-29T00:00:00\", \"2020-07-30T00:00:00\", \"2020-07-31T00:00:00\", \"2020-08-01T00:00:00\", \"2020-08-02T00:00:00\", \"2020-08-03T00:00:00\", \"2020-08-04T00:00:00\", \"2020-08-05T00:00:00\", \"2020-08-06T00:00:00\", \"2020-08-07T00:00:00\", \"2020-08-08T00:00:00\", \"2020-08-09T00:00:00\", \"2020-08-10T00:00:00\", \"2020-08-11T00:00:00\", \"2020-08-12T00:00:00\", \"2020-08-13T00:00:00\", \"2020-08-14T00:00:00\", \"2020-08-15T00:00:00\", \"2020-08-16T00:00:00\", \"2020-08-17T00:00:00\", \"2020-08-18T00:00:00\", \"2020-08-19T00:00:00\", \"2020-08-20T00:00:00\", \"2020-08-21T00:00:00\", \"2020-08-22T00:00:00\", \"2020-08-23T00:00:00\", \"2020-08-24T00:00:00\", \"2020-08-25T00:00:00\", \"2020-08-26T00:00:00\", \"2020-08-27T00:00:00\", \"2020-08-28T00:00:00\", \"2020-08-29T00:00:00\", \"2020-08-30T00:00:00\", \"2020-08-31T00:00:00\", \"2020-09-01T00:00:00\", \"2020-09-02T00:00:00\", \"2020-09-03T00:00:00\", \"2020-09-04T00:00:00\", \"2020-09-05T00:00:00\", \"2020-09-06T00:00:00\", \"2020-09-07T00:00:00\", \"2020-09-08T00:00:00\", \"2020-09-09T00:00:00\", \"2020-09-10T00:00:00\", \"2020-09-11T00:00:00\", \"2020-09-12T00:00:00\", \"2020-09-13T00:00:00\", \"2020-09-14T00:00:00\", \"2020-09-15T00:00:00\", \"2020-09-16T00:00:00\", \"2020-09-17T00:00:00\", \"2020-09-18T00:00:00\", \"2020-09-19T00:00:00\", \"2020-09-20T00:00:00\", \"2020-09-21T00:00:00\", \"2020-09-22T00:00:00\", \"2020-09-23T00:00:00\", \"2020-09-24T00:00:00\", \"2020-09-25T00:00:00\", \"2020-09-26T00:00:00\", \"2020-09-27T00:00:00\", \"2020-09-28T00:00:00\", \"2020-09-29T00:00:00\", \"2020-09-30T00:00:00\", \"2020-10-01T00:00:00\", \"2020-10-02T00:00:00\", \"2020-10-03T00:00:00\", \"2020-10-04T00:00:00\", \"2020-10-05T00:00:00\", \"2020-10-06T00:00:00\", \"2020-10-07T00:00:00\", \"2020-10-08T00:00:00\", \"2020-10-09T00:00:00\", \"2020-10-10T00:00:00\"], \"y\": [74, 75, 84, 107, 114, 137, 146, 166, 195, 258, 360, 433, 492, 519, 649, 724, 909, 979, 1071, 1397, 1637, 1965, 2301, 2902, 3374, 4067, 4421, 5194, 5734, 6412, 7447, 8356, 9152, 10363, 11439, 12380, 13387, 14378, 15712, 17265, 18601, 19984, 21393, 23077, 24506, 26496, 27892, 29435, 31332, 33050, 35043, 37336, 39980, 42533, 46433, 49390, 52951, 56341, 59662, 62939, 67152, 70756, 74281, 78003, 81970, 85940, 90927, 96169, 101139, 106750, 112359, 118447, 125101, 131868, 138845, 145380, 151767, 158333, 165799, 173763, 182143, 190535, 198706, 207615, 216919, 226770, 236657, 246628, 256611, 266598, 276583, 286579, 297535, 308993, 320922, 332424, 343091, 354065, 366946, 380532, 395048, 410461, 425282, 440215, 456183, 473105, 490401, 508953, 528859, 548318, 566840, 585493, 604641, 625544, 648315, 673165, 697413, 719665, 742417, 767296, 793802, 820916, 849553, 878254, 906752, 936181, 968876, 1003832, 1038716, 1077618, 1118043, 1155191, 1192915, 1238635, 1287945, 1336861, 1385522, 1435453, 1483156, 1531669, 1583792, 1638870, 1695988, 1750723, 1803695, 1855745, 1908254, 1964536, 2027074, 2088611, 2153010, 2215074, 2268675, 2329638, 2396637, 2461190, 2526192, 2589682, 2647663, 2702742, 2767273, 2836925, 2905823, 2975701, 3044940, 3106348, 3167323, 3234474, 3310234, 3387500, 3463972, 3542733, 3621245, 3691166, 3769523, 3853406, 3936747, 4023179, 4113811, 4204613, 4280422, 4370128, 4465863, 4562414, 4659984, 4754356, 4846427, 4930236, 5020359, 5118253, 5214677, 5308014, 5400619, 5487580, 5562663, 5646010, 5732518, 5818570, 5903932, 5992532, 6074702, 6145291, 6225763, 6312584, 6394068, 6473544, 6549373, 6623815, 6685082, 6757131, 6835655, 6906151, 6979423]}, {\"mode\": \"lines+markers\", \"name\": \"Cured Cases\", \"type\": \"scatter\", \"x\": [\"2020-03-12T00:00:00\", \"2020-03-13T00:00:00\", \"2020-03-14T00:00:00\", \"2020-03-15T00:00:00\", \"2020-03-16T00:00:00\", \"2020-03-17T00:00:00\", \"2020-03-18T00:00:00\", \"2020-03-19T00:00:00\", \"2020-03-20T00:00:00\", \"2020-03-21T00:00:00\", \"2020-03-22T00:00:00\", \"2020-03-23T00:00:00\", \"2020-03-24T00:00:00\", \"2020-03-25T00:00:00\", \"2020-03-26T00:00:00\", \"2020-03-27T00:00:00\", \"2020-03-28T00:00:00\", \"2020-03-29T00:00:00\", \"2020-03-30T00:00:00\", \"2020-03-31T00:00:00\", \"2020-04-01T00:00:00\", \"2020-04-02T00:00:00\", \"2020-04-03T00:00:00\", \"2020-04-04T00:00:00\", \"2020-04-05T00:00:00\", \"2020-04-06T00:00:00\", \"2020-04-07T00:00:00\", \"2020-04-08T00:00:00\", \"2020-04-09T00:00:00\", \"2020-04-10T00:00:00\", \"2020-04-11T00:00:00\", \"2020-04-12T00:00:00\", \"2020-04-13T00:00:00\", \"2020-04-14T00:00:00\", \"2020-04-15T00:00:00\", \"2020-04-16T00:00:00\", \"2020-04-17T00:00:00\", \"2020-04-18T00:00:00\", \"2020-04-19T00:00:00\", \"2020-04-20T00:00:00\", \"2020-04-21T00:00:00\", \"2020-04-22T00:00:00\", \"2020-04-23T00:00:00\", \"2020-04-24T00:00:00\", \"2020-04-25T00:00:00\", \"2020-04-26T00:00:00\", \"2020-04-27T00:00:00\", \"2020-04-28T00:00:00\", \"2020-04-29T00:00:00\", \"2020-04-30T00:00:00\", \"2020-05-01T00:00:00\", \"2020-05-02T00:00:00\", \"2020-05-03T00:00:00\", \"2020-05-04T00:00:00\", \"2020-05-05T00:00:00\", \"2020-05-06T00:00:00\", \"2020-05-07T00:00:00\", \"2020-05-08T00:00:00\", \"2020-05-09T00:00:00\", \"2020-05-10T00:00:00\", \"2020-05-11T00:00:00\", \"2020-05-12T00:00:00\", \"2020-05-13T00:00:00\", \"2020-05-14T00:00:00\", \"2020-05-15T00:00:00\", \"2020-05-16T00:00:00\", \"2020-05-17T00:00:00\", \"2020-05-18T00:00:00\", \"2020-05-19T00:00:00\", \"2020-05-20T00:00:00\", \"2020-05-21T00:00:00\", \"2020-05-22T00:00:00\", \"2020-05-23T00:00:00\", \"2020-05-24T00:00:00\", \"2020-05-25T00:00:00\", \"2020-05-26T00:00:00\", \"2020-05-27T00:00:00\", \"2020-05-28T00:00:00\", \"2020-05-29T00:00:00\", \"2020-05-30T00:00:00\", \"2020-05-31T00:00:00\", \"2020-06-01T00:00:00\", \"2020-06-02T00:00:00\", \"2020-06-03T00:00:00\", \"2020-06-04T00:00:00\", \"2020-06-05T00:00:00\", \"2020-06-06T00:00:00\", \"2020-06-07T00:00:00\", \"2020-06-08T00:00:00\", \"2020-06-09T00:00:00\", \"2020-06-10T00:00:00\", \"2020-06-11T00:00:00\", \"2020-06-12T00:00:00\", \"2020-06-13T00:00:00\", \"2020-06-14T00:00:00\", \"2020-06-15T00:00:00\", \"2020-06-16T00:00:00\", \"2020-06-17T00:00:00\", \"2020-06-18T00:00:00\", \"2020-06-19T00:00:00\", \"2020-06-20T00:00:00\", \"2020-06-21T00:00:00\", \"2020-06-22T00:00:00\", \"2020-06-23T00:00:00\", \"2020-06-24T00:00:00\", \"2020-06-25T00:00:00\", \"2020-06-26T00:00:00\", \"2020-06-27T00:00:00\", \"2020-06-28T00:00:00\", \"2020-06-29T00:00:00\", \"2020-06-30T00:00:00\", \"2020-07-01T00:00:00\", \"2020-07-02T00:00:00\", \"2020-07-03T00:00:00\", \"2020-07-04T00:00:00\", \"2020-07-05T00:00:00\", \"2020-07-06T00:00:00\", \"2020-07-07T00:00:00\", \"2020-07-08T00:00:00\", \"2020-07-09T00:00:00\", \"2020-07-10T00:00:00\", \"2020-07-11T00:00:00\", \"2020-07-12T00:00:00\", \"2020-07-13T00:00:00\", \"2020-07-14T00:00:00\", \"2020-07-15T00:00:00\", \"2020-07-16T00:00:00\", \"2020-07-17T00:00:00\", \"2020-07-18T00:00:00\", \"2020-07-19T00:00:00\", \"2020-07-20T00:00:00\", \"2020-07-21T00:00:00\", \"2020-07-22T00:00:00\", \"2020-07-23T00:00:00\", \"2020-07-24T00:00:00\", \"2020-07-25T00:00:00\", \"2020-07-26T00:00:00\", \"2020-07-27T00:00:00\", \"2020-07-28T00:00:00\", \"2020-07-29T00:00:00\", \"2020-07-30T00:00:00\", \"2020-07-31T00:00:00\", \"2020-08-01T00:00:00\", \"2020-08-02T00:00:00\", \"2020-08-03T00:00:00\", \"2020-08-04T00:00:00\", \"2020-08-05T00:00:00\", \"2020-08-06T00:00:00\", \"2020-08-07T00:00:00\", \"2020-08-08T00:00:00\", \"2020-08-09T00:00:00\", \"2020-08-10T00:00:00\", \"2020-08-11T00:00:00\", \"2020-08-12T00:00:00\", \"2020-08-13T00:00:00\", \"2020-08-14T00:00:00\", \"2020-08-15T00:00:00\", \"2020-08-16T00:00:00\", \"2020-08-17T00:00:00\", \"2020-08-18T00:00:00\", \"2020-08-19T00:00:00\", \"2020-08-20T00:00:00\", \"2020-08-21T00:00:00\", \"2020-08-22T00:00:00\", \"2020-08-23T00:00:00\", \"2020-08-24T00:00:00\", \"2020-08-25T00:00:00\", \"2020-08-26T00:00:00\", \"2020-08-27T00:00:00\", \"2020-08-28T00:00:00\", \"2020-08-29T00:00:00\", \"2020-08-30T00:00:00\", \"2020-08-31T00:00:00\", \"2020-09-01T00:00:00\", \"2020-09-02T00:00:00\", \"2020-09-03T00:00:00\", \"2020-09-04T00:00:00\", \"2020-09-05T00:00:00\", \"2020-09-06T00:00:00\", \"2020-09-07T00:00:00\", \"2020-09-08T00:00:00\", \"2020-09-09T00:00:00\", \"2020-09-10T00:00:00\", \"2020-09-11T00:00:00\", \"2020-09-12T00:00:00\", \"2020-09-13T00:00:00\", \"2020-09-14T00:00:00\", \"2020-09-15T00:00:00\", \"2020-09-16T00:00:00\", \"2020-09-17T00:00:00\", \"2020-09-18T00:00:00\", \"2020-09-19T00:00:00\", \"2020-09-20T00:00:00\", \"2020-09-21T00:00:00\", \"2020-09-22T00:00:00\", \"2020-09-23T00:00:00\", \"2020-09-24T00:00:00\", \"2020-09-25T00:00:00\", \"2020-09-26T00:00:00\", \"2020-09-27T00:00:00\", \"2020-09-28T00:00:00\", \"2020-09-29T00:00:00\", \"2020-09-30T00:00:00\", \"2020-10-01T00:00:00\", \"2020-10-02T00:00:00\", \"2020-10-03T00:00:00\", \"2020-10-04T00:00:00\", \"2020-10-05T00:00:00\", \"2020-10-06T00:00:00\", \"2020-10-07T00:00:00\", \"2020-10-08T00:00:00\", \"2020-10-09T00:00:00\", \"2020-10-10T00:00:00\"], \"y\": [3.0, 3.0, 10.0, 10.0, 13.0, 14.0, 14.0, 15.0, 20.0, 23.0, 24.0, 24.0, 37.0, 40.0, 43.0, 67.0, 80.0, 87.0, 100.0, 124.0, 133.0, 151.0, 157.0, 184.0, 267.0, 292.0, 326.0, 402.0, 473.0, 504.0, 643.0, 716.0, 857.0, 1036.0, 1306.0, 1489.0, 1749.0, 1992.0, 2231.0, 2547.0, 3252.0, 3870.0, 4258.0, 4749.0, 5063.0, 5804.0, 6185.0, 6869.0, 7696.0, 8325.0, 8889.0, 9951.0, 10633.0, 11707.0, 12727.0, 14183.0, 15267.0, 16540.0, 17847.0, 19358.0, 20917.0, 22455.0, 24386.0, 26235.0, 27920.0, 30153.0, 34109.0, 36824.0, 39174.0, 42298.0, 45300.0, 48534.0, 51784.0, 54441.0, 57721.0, 60491.0, 64426.0, 67692.0, 71106.0, 82370.0, 86984.0, 91819.0, 95527.0, 100303.0, 104107.0, 109462.0, 114073.0, 119293.0, 124095.0, 129215.0, 135206.0, 141029.0, 147195.0, 154330.0, 162379.0, 169798.0, 180013.0, 186935.0, 194325.0, 204711.0, 213831.0, 227756.0, 237196.0, 248190.0, 258685.0, 271697.0, 285637.0, 295881.0, 309713.0, 321723.0, 334822.0, 347979.0, 359860.0, 379892.0, 394227.0, 409083.0, 424433.0, 439948.0, 456831.0, 476378.0, 495513.0, 515386.0, 534621.0, 553471.0, 571460.0, 592032.0, 612815.0, 635757.0, 653751.0, 677423.0, 700087.0, 724578.0, 753050.0, 782607.0, 817209.0, 849432.0, 885577.0, 917568.0, 952743.0, 988029.0, 1020582.0, 1057805.0, 1094374.0, 1145629.0, 1186203.0, 1230509.0, 1282215.0, 1328336.0, 1378105.0, 1427005.0, 1480884.0, 1535743.0, 1583489.0, 1639599.0, 1695982.0, 1751555.0, 1808936.0, 1862258.0, 1919842.0, 1977779.0, 2037870.0, 2096664.0, 2158946.0, 2222577.0, 2280566.0, 2338035.0, 2404585.0, 2467758.0, 2523771.0, 2583948.0, 2648998.0, 2713933.0, 2774801.0, 2839882.0, 2901908.0, 2970492.0, 3037151.0, 3107223.0, 3180865.0, 3250429.0, 3323950.0, 3398844.0, 3471783.0, 3542663.0, 3624196.0, 3702595.0, 3780107.0, 3859399.0, 3942360.0, 4025079.0, 4112551.0, 4208431.0, 4303043.0, 4396399.0, 4497867.0, 4587613.0, 4674987.0, 4756164.0, 4849584.0, 4941627.0, 5016520.0, 5101397.0, 5187825.0, 5273201.0, 5352078.0, 5427706.0, 5509966.0, 5586703.0, 5662490.0, 5744693.0, 5827704.0, 5906069.0, 5988822.0]}, {\"mode\": \"lines+markers\", \"name\": \"Death Cases\", \"type\": \"scatter\", \"x\": [\"2020-03-12T00:00:00\", \"2020-03-13T00:00:00\", \"2020-03-14T00:00:00\", \"2020-03-15T00:00:00\", \"2020-03-16T00:00:00\", \"2020-03-17T00:00:00\", \"2020-03-18T00:00:00\", \"2020-03-19T00:00:00\", \"2020-03-20T00:00:00\", \"2020-03-21T00:00:00\", \"2020-03-22T00:00:00\", \"2020-03-23T00:00:00\", \"2020-03-24T00:00:00\", \"2020-03-25T00:00:00\", \"2020-03-26T00:00:00\", \"2020-03-27T00:00:00\", \"2020-03-28T00:00:00\", \"2020-03-29T00:00:00\", \"2020-03-30T00:00:00\", \"2020-03-31T00:00:00\", \"2020-04-01T00:00:00\", \"2020-04-02T00:00:00\", \"2020-04-03T00:00:00\", \"2020-04-04T00:00:00\", \"2020-04-05T00:00:00\", \"2020-04-06T00:00:00\", \"2020-04-07T00:00:00\", \"2020-04-08T00:00:00\", \"2020-04-09T00:00:00\", \"2020-04-10T00:00:00\", \"2020-04-11T00:00:00\", \"2020-04-12T00:00:00\", \"2020-04-13T00:00:00\", \"2020-04-14T00:00:00\", \"2020-04-15T00:00:00\", \"2020-04-16T00:00:00\", \"2020-04-17T00:00:00\", \"2020-04-18T00:00:00\", \"2020-04-19T00:00:00\", \"2020-04-20T00:00:00\", \"2020-04-21T00:00:00\", \"2020-04-22T00:00:00\", \"2020-04-23T00:00:00\", \"2020-04-24T00:00:00\", \"2020-04-25T00:00:00\", \"2020-04-26T00:00:00\", \"2020-04-27T00:00:00\", \"2020-04-28T00:00:00\", \"2020-04-29T00:00:00\", \"2020-04-30T00:00:00\", \"2020-05-01T00:00:00\", \"2020-05-02T00:00:00\", \"2020-05-03T00:00:00\", \"2020-05-04T00:00:00\", \"2020-05-05T00:00:00\", \"2020-05-06T00:00:00\", \"2020-05-07T00:00:00\", \"2020-05-08T00:00:00\", \"2020-05-09T00:00:00\", \"2020-05-10T00:00:00\", \"2020-05-11T00:00:00\", \"2020-05-12T00:00:00\", \"2020-05-13T00:00:00\", \"2020-05-14T00:00:00\", \"2020-05-15T00:00:00\", \"2020-05-16T00:00:00\", \"2020-05-17T00:00:00\", \"2020-05-18T00:00:00\", \"2020-05-19T00:00:00\", \"2020-05-20T00:00:00\", \"2020-05-21T00:00:00\", \"2020-05-22T00:00:00\", \"2020-05-23T00:00:00\", \"2020-05-24T00:00:00\", \"2020-05-25T00:00:00\", \"2020-05-26T00:00:00\", \"2020-05-27T00:00:00\", \"2020-05-28T00:00:00\", \"2020-05-29T00:00:00\", \"2020-05-30T00:00:00\", \"2020-05-31T00:00:00\", \"2020-06-01T00:00:00\", \"2020-06-02T00:00:00\", \"2020-06-03T00:00:00\", \"2020-06-04T00:00:00\", \"2020-06-05T00:00:00\", \"2020-06-06T00:00:00\", \"2020-06-07T00:00:00\", \"2020-06-08T00:00:00\", \"2020-06-09T00:00:00\", \"2020-06-10T00:00:00\", \"2020-06-11T00:00:00\", \"2020-06-12T00:00:00\", \"2020-06-13T00:00:00\", \"2020-06-14T00:00:00\", \"2020-06-15T00:00:00\", \"2020-06-16T00:00:00\", \"2020-06-17T00:00:00\", \"2020-06-18T00:00:00\", \"2020-06-19T00:00:00\", \"2020-06-20T00:00:00\", \"2020-06-21T00:00:00\", \"2020-06-22T00:00:00\", \"2020-06-23T00:00:00\", \"2020-06-24T00:00:00\", \"2020-06-25T00:00:00\", \"2020-06-26T00:00:00\", \"2020-06-27T00:00:00\", \"2020-06-28T00:00:00\", \"2020-06-29T00:00:00\", \"2020-06-30T00:00:00\", \"2020-07-01T00:00:00\", \"2020-07-02T00:00:00\", \"2020-07-03T00:00:00\", \"2020-07-04T00:00:00\", \"2020-07-05T00:00:00\", \"2020-07-06T00:00:00\", \"2020-07-07T00:00:00\", \"2020-07-08T00:00:00\", \"2020-07-09T00:00:00\", \"2020-07-10T00:00:00\", \"2020-07-11T00:00:00\", \"2020-07-12T00:00:00\", \"2020-07-13T00:00:00\", \"2020-07-14T00:00:00\", \"2020-07-15T00:00:00\", \"2020-07-16T00:00:00\", \"2020-07-17T00:00:00\", \"2020-07-18T00:00:00\", \"2020-07-19T00:00:00\", \"2020-07-20T00:00:00\", \"2020-07-21T00:00:00\", \"2020-07-22T00:00:00\", \"2020-07-23T00:00:00\", \"2020-07-24T00:00:00\", \"2020-07-25T00:00:00\", \"2020-07-26T00:00:00\", \"2020-07-27T00:00:00\", \"2020-07-28T00:00:00\", \"2020-07-29T00:00:00\", \"2020-07-30T00:00:00\", \"2020-07-31T00:00:00\", \"2020-08-01T00:00:00\", \"2020-08-02T00:00:00\", \"2020-08-03T00:00:00\", \"2020-08-04T00:00:00\", \"2020-08-05T00:00:00\", \"2020-08-06T00:00:00\", \"2020-08-07T00:00:00\", \"2020-08-08T00:00:00\", \"2020-08-09T00:00:00\", \"2020-08-10T00:00:00\", \"2020-08-11T00:00:00\", \"2020-08-12T00:00:00\", \"2020-08-13T00:00:00\", \"2020-08-14T00:00:00\", \"2020-08-15T00:00:00\", \"2020-08-16T00:00:00\", \"2020-08-17T00:00:00\", \"2020-08-18T00:00:00\", \"2020-08-19T00:00:00\", \"2020-08-20T00:00:00\", \"2020-08-21T00:00:00\", \"2020-08-22T00:00:00\", \"2020-08-23T00:00:00\", \"2020-08-24T00:00:00\", \"2020-08-25T00:00:00\", \"2020-08-26T00:00:00\", \"2020-08-27T00:00:00\", \"2020-08-28T00:00:00\", \"2020-08-29T00:00:00\", \"2020-08-30T00:00:00\", \"2020-08-31T00:00:00\", \"2020-09-01T00:00:00\", \"2020-09-02T00:00:00\", \"2020-09-03T00:00:00\", \"2020-09-04T00:00:00\", \"2020-09-05T00:00:00\", \"2020-09-06T00:00:00\", \"2020-09-07T00:00:00\", \"2020-09-08T00:00:00\", \"2020-09-09T00:00:00\", \"2020-09-10T00:00:00\", \"2020-09-11T00:00:00\", \"2020-09-12T00:00:00\", \"2020-09-13T00:00:00\", \"2020-09-14T00:00:00\", \"2020-09-15T00:00:00\", \"2020-09-16T00:00:00\", \"2020-09-17T00:00:00\", \"2020-09-18T00:00:00\", \"2020-09-19T00:00:00\", \"2020-09-20T00:00:00\", \"2020-09-21T00:00:00\", \"2020-09-22T00:00:00\", \"2020-09-23T00:00:00\", \"2020-09-24T00:00:00\", \"2020-09-25T00:00:00\", \"2020-09-26T00:00:00\", \"2020-09-27T00:00:00\", \"2020-09-28T00:00:00\", \"2020-09-29T00:00:00\", \"2020-09-30T00:00:00\", \"2020-10-01T00:00:00\", \"2020-10-02T00:00:00\", \"2020-10-03T00:00:00\", \"2020-10-04T00:00:00\", \"2020-10-05T00:00:00\", \"2020-10-06T00:00:00\", \"2020-10-07T00:00:00\", \"2020-10-08T00:00:00\", \"2020-10-09T00:00:00\", \"2020-10-10T00:00:00\"], \"y\": [0.0, 1.0, 2.0, 2.0, 2.0, 3.0, 3.0, 3.0, 4.0, 4.0, 7.0, 7.0, 9.0, 10.0, 13.0, 17.0, 19.0, 25.0, 29.0, 35.0, 38.0, 50.0, 56.0, 68.0, 77.0, 109.0, 114.0, 149.0, 166.0, 199.0, 239.0, 273.0, 308.0, 339.0, 377.0, 414.0, 437.0, 480.0, 507.0, 543.0, 590.0, 640.0, 681.0, 718.0, 775.0, 824.0, 872.0, 934.0, 1007.0, 1074.0, 1147.0, 1218.0, 1301.0, 1373.0, 1568.0, 1694.0, 1783.0, 1886.0, 1981.0, 2109.0, 2206.0, 2293.0, 2415.0, 2549.0, 2649.0, 2752.0, 2872.0, 3029.0, 3163.0, 3303.0, 3435.0, 3583.0, 3720.0, 3867.0, 4021.0, 4167.0, 4337.0, 4531.0, 4706.0, 4971.0, 5164.0, 5394.0, 5598.0, 5815.0, 6075.0, 6348.0, 6642.0, 6929.0, 7135.0, 7466.0, 7745.0, 8102.0, 8498.0, 8884.0, 9195.0, 9520.0, 9900.0, 11903.0, 12237.0, 12573.0, 12948.0, 13254.0, 13699.0, 14011.0, 14476.0, 14894.0, 15301.0, 15685.0, 16095.0, 16475.0, 16893.0, 17400.0, 17834.0, 18213.0, 18655.0, 19268.0, 19693.0, 20160.0, 20642.0, 21129.0, 21604.0, 22123.0, 22674.0, 23174.0, 23727.0, 24309.0, 24915.0, 25602.0, 26273.0, 26816.0, 27497.0, 28084.0, 28732.0, 29861.0, 30601.0, 31358.0, 32063.0, 32771.0, 33425.0, 34193.0, 34968.0, 35747.0, 36511.0, 37364.0, 38135.0, 38938.0, 39795.0, 40699.0, 41585.0, 42518.0, 43379.0, 44386.0, 45257.0, 46091.0, 47033.0, 48040.0, 49036.0, 49980.0, 50921.0, 51797.0, 52889.0, 53866.0, 54849.0, 55794.0, 56706.0, 57542.0, 58390.0, 59449.0, 60472.0, 61529.0, 62550.0, 63498.0, 64469.0, 65288.0, 66333.0, 67376.0, 68472.0, 69561.0, 70626.0, 71642.0, 72775.0, 73890.0, 75062.0, 76271.0, 77472.0, 78586.0, 79722.0, 80776.0, 82066.0, 83198.0, 84372.0, 85619.0, 86752.0, 87882.0, 88935.0, 90020.0, 91149.0, 92290.0, 93379.0, 94503.0, 95542.0, 96318.0, 97497.0, 98678.0, 99773.0, 100842.0, 101782.0, 102685.0, 103569.0, 104555.0, 105526.0, 106490.0, 107416.0]}],\n",
              "                        {\"legend\": {\"traceorder\": \"normal\", \"x\": 0, \"y\": 1}, \"template\": {\"data\": {\"bar\": [{\"error_x\": {\"color\": \"#2a3f5f\"}, \"error_y\": {\"color\": \"#2a3f5f\"}, \"marker\": {\"line\": {\"color\": \"#E5ECF6\", \"width\": 0.5}}, \"type\": \"bar\"}], \"barpolar\": [{\"marker\": {\"line\": {\"color\": \"#E5ECF6\", \"width\": 0.5}}, \"type\": \"barpolar\"}], \"carpet\": [{\"aaxis\": {\"endlinecolor\": \"#2a3f5f\", \"gridcolor\": \"white\", \"linecolor\": \"white\", \"minorgridcolor\": \"white\", \"startlinecolor\": \"#2a3f5f\"}, \"baxis\": {\"endlinecolor\": \"#2a3f5f\", \"gridcolor\": \"white\", \"linecolor\": \"white\", \"minorgridcolor\": \"white\", \"startlinecolor\": \"#2a3f5f\"}, \"type\": \"carpet\"}], \"choropleth\": [{\"colorbar\": {\"outlinewidth\": 0, \"ticks\": \"\"}, \"type\": \"choropleth\"}], \"contour\": [{\"colorbar\": {\"outlinewidth\": 0, \"ticks\": \"\"}, \"colorscale\": [[0.0, \"#0d0887\"], [0.1111111111111111, \"#46039f\"], [0.2222222222222222, \"#7201a8\"], [0.3333333333333333, \"#9c179e\"], [0.4444444444444444, \"#bd3786\"], [0.5555555555555556, \"#d8576b\"], [0.6666666666666666, \"#ed7953\"], [0.7777777777777778, \"#fb9f3a\"], [0.8888888888888888, \"#fdca26\"], [1.0, \"#f0f921\"]], \"type\": \"contour\"}], \"contourcarpet\": [{\"colorbar\": {\"outlinewidth\": 0, \"ticks\": \"\"}, \"type\": \"contourcarpet\"}], \"heatmap\": [{\"colorbar\": {\"outlinewidth\": 0, \"ticks\": \"\"}, \"colorscale\": [[0.0, \"#0d0887\"], [0.1111111111111111, \"#46039f\"], [0.2222222222222222, \"#7201a8\"], [0.3333333333333333, \"#9c179e\"], [0.4444444444444444, \"#bd3786\"], [0.5555555555555556, \"#d8576b\"], [0.6666666666666666, \"#ed7953\"], [0.7777777777777778, \"#fb9f3a\"], [0.8888888888888888, \"#fdca26\"], [1.0, \"#f0f921\"]], \"type\": \"heatmap\"}], \"heatmapgl\": [{\"colorbar\": {\"outlinewidth\": 0, \"ticks\": \"\"}, \"colorscale\": [[0.0, \"#0d0887\"], [0.1111111111111111, \"#46039f\"], [0.2222222222222222, \"#7201a8\"], [0.3333333333333333, \"#9c179e\"], [0.4444444444444444, \"#bd3786\"], [0.5555555555555556, \"#d8576b\"], [0.6666666666666666, \"#ed7953\"], [0.7777777777777778, \"#fb9f3a\"], [0.8888888888888888, \"#fdca26\"], [1.0, \"#f0f921\"]], \"type\": \"heatmapgl\"}], \"histogram\": [{\"marker\": {\"colorbar\": {\"outlinewidth\": 0, \"ticks\": \"\"}}, \"type\": \"histogram\"}], \"histogram2d\": [{\"colorbar\": {\"outlinewidth\": 0, \"ticks\": \"\"}, \"colorscale\": [[0.0, \"#0d0887\"], [0.1111111111111111, \"#46039f\"], [0.2222222222222222, \"#7201a8\"], [0.3333333333333333, \"#9c179e\"], [0.4444444444444444, \"#bd3786\"], [0.5555555555555556, \"#d8576b\"], [0.6666666666666666, \"#ed7953\"], [0.7777777777777778, \"#fb9f3a\"], [0.8888888888888888, \"#fdca26\"], [1.0, \"#f0f921\"]], \"type\": \"histogram2d\"}], \"histogram2dcontour\": [{\"colorbar\": {\"outlinewidth\": 0, \"ticks\": \"\"}, \"colorscale\": [[0.0, \"#0d0887\"], [0.1111111111111111, \"#46039f\"], [0.2222222222222222, \"#7201a8\"], [0.3333333333333333, \"#9c179e\"], [0.4444444444444444, \"#bd3786\"], [0.5555555555555556, \"#d8576b\"], [0.6666666666666666, \"#ed7953\"], [0.7777777777777778, \"#fb9f3a\"], [0.8888888888888888, \"#fdca26\"], [1.0, \"#f0f921\"]], \"type\": \"histogram2dcontour\"}], \"mesh3d\": [{\"colorbar\": {\"outlinewidth\": 0, \"ticks\": \"\"}, \"type\": \"mesh3d\"}], \"parcoords\": [{\"line\": {\"colorbar\": {\"outlinewidth\": 0, \"ticks\": \"\"}}, \"type\": \"parcoords\"}], \"pie\": [{\"automargin\": true, \"type\": \"pie\"}], \"scatter\": [{\"marker\": {\"colorbar\": {\"outlinewidth\": 0, \"ticks\": \"\"}}, \"type\": \"scatter\"}], \"scatter3d\": [{\"line\": {\"colorbar\": {\"outlinewidth\": 0, \"ticks\": \"\"}}, \"marker\": {\"colorbar\": {\"outlinewidth\": 0, \"ticks\": \"\"}}, \"type\": \"scatter3d\"}], \"scattercarpet\": [{\"marker\": {\"colorbar\": {\"outlinewidth\": 0, \"ticks\": \"\"}}, \"type\": \"scattercarpet\"}], \"scattergeo\": [{\"marker\": {\"colorbar\": {\"outlinewidth\": 0, \"ticks\": \"\"}}, \"type\": \"scattergeo\"}], \"scattergl\": [{\"marker\": {\"colorbar\": {\"outlinewidth\": 0, \"ticks\": \"\"}}, \"type\": \"scattergl\"}], \"scattermapbox\": [{\"marker\": {\"colorbar\": {\"outlinewidth\": 0, \"ticks\": \"\"}}, \"type\": \"scattermapbox\"}], \"scatterpolar\": [{\"marker\": {\"colorbar\": {\"outlinewidth\": 0, \"ticks\": \"\"}}, \"type\": \"scatterpolar\"}], \"scatterpolargl\": [{\"marker\": {\"colorbar\": {\"outlinewidth\": 0, \"ticks\": \"\"}}, \"type\": \"scatterpolargl\"}], \"scatterternary\": [{\"marker\": {\"colorbar\": {\"outlinewidth\": 0, \"ticks\": \"\"}}, \"type\": \"scatterternary\"}], \"surface\": [{\"colorbar\": {\"outlinewidth\": 0, \"ticks\": \"\"}, \"colorscale\": [[0.0, \"#0d0887\"], [0.1111111111111111, \"#46039f\"], [0.2222222222222222, \"#7201a8\"], [0.3333333333333333, \"#9c179e\"], [0.4444444444444444, \"#bd3786\"], [0.5555555555555556, \"#d8576b\"], [0.6666666666666666, \"#ed7953\"], [0.7777777777777778, \"#fb9f3a\"], [0.8888888888888888, \"#fdca26\"], [1.0, \"#f0f921\"]], \"type\": \"surface\"}], \"table\": [{\"cells\": {\"fill\": {\"color\": \"#EBF0F8\"}, \"line\": {\"color\": \"white\"}}, \"header\": {\"fill\": {\"color\": \"#C8D4E3\"}, \"line\": {\"color\": \"white\"}}, \"type\": \"table\"}]}, \"layout\": {\"annotationdefaults\": {\"arrowcolor\": \"#2a3f5f\", \"arrowhead\": 0, \"arrowwidth\": 1}, \"coloraxis\": {\"colorbar\": {\"outlinewidth\": 0, \"ticks\": \"\"}}, \"colorscale\": {\"diverging\": [[0, \"#8e0152\"], [0.1, \"#c51b7d\"], [0.2, \"#de77ae\"], [0.3, \"#f1b6da\"], [0.4, \"#fde0ef\"], [0.5, \"#f7f7f7\"], [0.6, \"#e6f5d0\"], [0.7, \"#b8e186\"], [0.8, \"#7fbc41\"], [0.9, \"#4d9221\"], [1, \"#276419\"]], \"sequential\": [[0.0, \"#0d0887\"], [0.1111111111111111, \"#46039f\"], [0.2222222222222222, \"#7201a8\"], [0.3333333333333333, \"#9c179e\"], [0.4444444444444444, \"#bd3786\"], [0.5555555555555556, \"#d8576b\"], [0.6666666666666666, \"#ed7953\"], [0.7777777777777778, \"#fb9f3a\"], [0.8888888888888888, \"#fdca26\"], [1.0, \"#f0f921\"]], \"sequentialminus\": [[0.0, \"#0d0887\"], [0.1111111111111111, \"#46039f\"], [0.2222222222222222, \"#7201a8\"], [0.3333333333333333, \"#9c179e\"], [0.4444444444444444, \"#bd3786\"], [0.5555555555555556, \"#d8576b\"], [0.6666666666666666, \"#ed7953\"], [0.7777777777777778, \"#fb9f3a\"], [0.8888888888888888, \"#fdca26\"], [1.0, \"#f0f921\"]]}, \"colorway\": [\"#636efa\", \"#EF553B\", \"#00cc96\", \"#ab63fa\", \"#FFA15A\", \"#19d3f3\", \"#FF6692\", \"#B6E880\", \"#FF97FF\", \"#FECB52\"], \"font\": {\"color\": \"#2a3f5f\"}, \"geo\": {\"bgcolor\": \"white\", \"lakecolor\": \"white\", \"landcolor\": \"#E5ECF6\", \"showlakes\": true, \"showland\": true, \"subunitcolor\": \"white\"}, \"hoverlabel\": {\"align\": \"left\"}, \"hovermode\": \"closest\", \"mapbox\": {\"style\": \"light\"}, \"paper_bgcolor\": \"white\", \"plot_bgcolor\": \"#E5ECF6\", \"polar\": {\"angularaxis\": {\"gridcolor\": \"white\", \"linecolor\": \"white\", \"ticks\": \"\"}, \"bgcolor\": \"#E5ECF6\", \"radialaxis\": {\"gridcolor\": \"white\", \"linecolor\": \"white\", \"ticks\": \"\"}}, \"scene\": {\"xaxis\": {\"backgroundcolor\": \"#E5ECF6\", \"gridcolor\": \"white\", \"gridwidth\": 2, \"linecolor\": \"white\", \"showbackground\": true, \"ticks\": \"\", \"zerolinecolor\": \"white\"}, \"yaxis\": {\"backgroundcolor\": \"#E5ECF6\", \"gridcolor\": \"white\", \"gridwidth\": 2, \"linecolor\": \"white\", \"showbackground\": true, \"ticks\": \"\", \"zerolinecolor\": \"white\"}, \"zaxis\": {\"backgroundcolor\": \"#E5ECF6\", \"gridcolor\": \"white\", \"gridwidth\": 2, \"linecolor\": \"white\", \"showbackground\": true, \"ticks\": \"\", \"zerolinecolor\": \"white\"}}, \"shapedefaults\": {\"line\": {\"color\": \"#2a3f5f\"}}, \"ternary\": {\"aaxis\": {\"gridcolor\": \"white\", \"linecolor\": \"white\", \"ticks\": \"\"}, \"baxis\": {\"gridcolor\": \"white\", \"linecolor\": \"white\", \"ticks\": \"\"}, \"bgcolor\": \"#E5ECF6\", \"caxis\": {\"gridcolor\": \"white\", \"linecolor\": \"white\", \"ticks\": \"\"}}, \"title\": {\"x\": 0.05}, \"xaxis\": {\"automargin\": true, \"gridcolor\": \"white\", \"linecolor\": \"white\", \"ticks\": \"\", \"title\": {\"standoff\": 15}, \"zerolinecolor\": \"white\", \"zerolinewidth\": 2}, \"yaxis\": {\"automargin\": true, \"gridcolor\": \"white\", \"linecolor\": \"white\", \"ticks\": \"\", \"title\": {\"standoff\": 15}, \"zerolinecolor\": \"white\", \"zerolinewidth\": 2}}}, \"title\": {\"text\": \" Growth of Different types of cases\"}, \"xaxis\": {\"title\": {\"text\": \"Date\"}}, \"yaxis\": {\"title\": {\"text\": \"Number of Cases\"}}},\n",
              "                        {\"responsive\": true}\n",
              "                    ).then(function(){\n",
              "                            \n",
              "var gd = document.getElementById('c6d66a4c-61d4-419a-9bc7-9acaf66712f3');\n",
              "var x = new MutationObserver(function (mutations, observer) {{\n",
              "        var display = window.getComputedStyle(gd).display;\n",
              "        if (!display || display === 'none') {{\n",
              "            console.log([gd, 'removed!']);\n",
              "            Plotly.purge(gd);\n",
              "            observer.disconnect();\n",
              "        }}\n",
              "}});\n",
              "\n",
              "// Listen for the removal of the full notebook cells\n",
              "var notebookContainer = gd.closest('#notebook-container');\n",
              "if (notebookContainer) {{\n",
              "    x.observe(notebookContainer, {childList: true});\n",
              "}}\n",
              "\n",
              "// Listen for the clearing of the current output cell\n",
              "var outputEl = gd.closest('.output');\n",
              "if (outputEl) {{\n",
              "    x.observe(outputEl, {childList: true});\n",
              "}}\n",
              "\n",
              "                        })\n",
              "                };\n",
              "                });\n",
              "            </script>\n",
              "        </div>"
            ],
            "application/vnd.plotly.v1+json": {
              "data": [
                {
                  "y": [
                    74,
                    75,
                    84,
                    107,
                    114,
                    137,
                    146,
                    166,
                    195,
                    258,
                    360,
                    433,
                    492,
                    519,
                    649,
                    724,
                    909,
                    979,
                    1071,
                    1397,
                    1637,
                    1965,
                    2301,
                    2902,
                    3374,
                    4067,
                    4421,
                    5194,
                    5734,
                    6412,
                    7447,
                    8356,
                    9152,
                    10363,
                    11439,
                    12380,
                    13387,
                    14378,
                    15712,
                    17265,
                    18601,
                    19984,
                    21393,
                    23077,
                    24506,
                    26496,
                    27892,
                    29435,
                    31332,
                    33050,
                    35043,
                    37336,
                    39980,
                    42533,
                    46433,
                    49390,
                    52951,
                    56341,
                    59662,
                    62939,
                    67152,
                    70756,
                    74281,
                    78003,
                    81970,
                    85940,
                    90927,
                    96169,
                    101139,
                    106750,
                    112359,
                    118447,
                    125101,
                    131868,
                    138845,
                    145380,
                    151767,
                    158333,
                    165799,
                    173763,
                    182143,
                    190535,
                    198706,
                    207615,
                    216919,
                    226770,
                    236657,
                    246628,
                    256611,
                    266598,
                    276583,
                    286579,
                    297535,
                    308993,
                    320922,
                    332424,
                    343091,
                    354065,
                    366946,
                    380532,
                    395048,
                    410461,
                    425282,
                    440215,
                    456183,
                    473105,
                    490401,
                    508953,
                    528859,
                    548318,
                    566840,
                    585493,
                    604641,
                    625544,
                    648315,
                    673165,
                    697413,
                    719665,
                    742417,
                    767296,
                    793802,
                    820916,
                    849553,
                    878254,
                    906752,
                    936181,
                    968876,
                    1003832,
                    1038716,
                    1077618,
                    1118043,
                    1155191,
                    1192915,
                    1238635,
                    1287945,
                    1336861,
                    1385522,
                    1435453,
                    1483156,
                    1531669,
                    1583792,
                    1638870,
                    1695988,
                    1750723,
                    1803695,
                    1855745,
                    1908254,
                    1964536,
                    2027074,
                    2088611,
                    2153010,
                    2215074,
                    2268675,
                    2329638,
                    2396637,
                    2461190,
                    2526192,
                    2589682,
                    2647663,
                    2702742,
                    2767273,
                    2836925,
                    2905823,
                    2975701,
                    3044940,
                    3106348,
                    3167323,
                    3234474,
                    3310234,
                    3387500,
                    3463972,
                    3542733,
                    3621245,
                    3691166,
                    3769523,
                    3853406,
                    3936747,
                    4023179,
                    4113811,
                    4204613,
                    4280422,
                    4370128,
                    4465863,
                    4562414,
                    4659984,
                    4754356,
                    4846427,
                    4930236,
                    5020359,
                    5118253,
                    5214677,
                    5308014,
                    5400619,
                    5487580,
                    5562663,
                    5646010,
                    5732518,
                    5818570,
                    5903932,
                    5992532,
                    6074702,
                    6145291,
                    6225763,
                    6312584,
                    6394068,
                    6473544,
                    6549373,
                    6623815,
                    6685082,
                    6757131,
                    6835655,
                    6906151,
                    6979423
                  ],
                  "x": [
                    "2020-03-12T00:00:00",
                    "2020-03-13T00:00:00",
                    "2020-03-14T00:00:00",
                    "2020-03-15T00:00:00",
                    "2020-03-16T00:00:00",
                    "2020-03-17T00:00:00",
                    "2020-03-18T00:00:00",
                    "2020-03-19T00:00:00",
                    "2020-03-20T00:00:00",
                    "2020-03-21T00:00:00",
                    "2020-03-22T00:00:00",
                    "2020-03-23T00:00:00",
                    "2020-03-24T00:00:00",
                    "2020-03-25T00:00:00",
                    "2020-03-26T00:00:00",
                    "2020-03-27T00:00:00",
                    "2020-03-28T00:00:00",
                    "2020-03-29T00:00:00",
                    "2020-03-30T00:00:00",
                    "2020-03-31T00:00:00",
                    "2020-04-01T00:00:00",
                    "2020-04-02T00:00:00",
                    "2020-04-03T00:00:00",
                    "2020-04-04T00:00:00",
                    "2020-04-05T00:00:00",
                    "2020-04-06T00:00:00",
                    "2020-04-07T00:00:00",
                    "2020-04-08T00:00:00",
                    "2020-04-09T00:00:00",
                    "2020-04-10T00:00:00",
                    "2020-04-11T00:00:00",
                    "2020-04-12T00:00:00",
                    "2020-04-13T00:00:00",
                    "2020-04-14T00:00:00",
                    "2020-04-15T00:00:00",
                    "2020-04-16T00:00:00",
                    "2020-04-17T00:00:00",
                    "2020-04-18T00:00:00",
                    "2020-04-19T00:00:00",
                    "2020-04-20T00:00:00",
                    "2020-04-21T00:00:00",
                    "2020-04-22T00:00:00",
                    "2020-04-23T00:00:00",
                    "2020-04-24T00:00:00",
                    "2020-04-25T00:00:00",
                    "2020-04-26T00:00:00",
                    "2020-04-27T00:00:00",
                    "2020-04-28T00:00:00",
                    "2020-04-29T00:00:00",
                    "2020-04-30T00:00:00",
                    "2020-05-01T00:00:00",
                    "2020-05-02T00:00:00",
                    "2020-05-03T00:00:00",
                    "2020-05-04T00:00:00",
                    "2020-05-05T00:00:00",
                    "2020-05-06T00:00:00",
                    "2020-05-07T00:00:00",
                    "2020-05-08T00:00:00",
                    "2020-05-09T00:00:00",
                    "2020-05-10T00:00:00",
                    "2020-05-11T00:00:00",
                    "2020-05-12T00:00:00",
                    "2020-05-13T00:00:00",
                    "2020-05-14T00:00:00",
                    "2020-05-15T00:00:00",
                    "2020-05-16T00:00:00",
                    "2020-05-17T00:00:00",
                    "2020-05-18T00:00:00",
                    "2020-05-19T00:00:00",
                    "2020-05-20T00:00:00",
                    "2020-05-21T00:00:00",
                    "2020-05-22T00:00:00",
                    "2020-05-23T00:00:00",
                    "2020-05-24T00:00:00",
                    "2020-05-25T00:00:00",
                    "2020-05-26T00:00:00",
                    "2020-05-27T00:00:00",
                    "2020-05-28T00:00:00",
                    "2020-05-29T00:00:00",
                    "2020-05-30T00:00:00",
                    "2020-05-31T00:00:00",
                    "2020-06-01T00:00:00",
                    "2020-06-02T00:00:00",
                    "2020-06-03T00:00:00",
                    "2020-06-04T00:00:00",
                    "2020-06-05T00:00:00",
                    "2020-06-06T00:00:00",
                    "2020-06-07T00:00:00",
                    "2020-06-08T00:00:00",
                    "2020-06-09T00:00:00",
                    "2020-06-10T00:00:00",
                    "2020-06-11T00:00:00",
                    "2020-06-12T00:00:00",
                    "2020-06-13T00:00:00",
                    "2020-06-14T00:00:00",
                    "2020-06-15T00:00:00",
                    "2020-06-16T00:00:00",
                    "2020-06-17T00:00:00",
                    "2020-06-18T00:00:00",
                    "2020-06-19T00:00:00",
                    "2020-06-20T00:00:00",
                    "2020-06-21T00:00:00",
                    "2020-06-22T00:00:00",
                    "2020-06-23T00:00:00",
                    "2020-06-24T00:00:00",
                    "2020-06-25T00:00:00",
                    "2020-06-26T00:00:00",
                    "2020-06-27T00:00:00",
                    "2020-06-28T00:00:00",
                    "2020-06-29T00:00:00",
                    "2020-06-30T00:00:00",
                    "2020-07-01T00:00:00",
                    "2020-07-02T00:00:00",
                    "2020-07-03T00:00:00",
                    "2020-07-04T00:00:00",
                    "2020-07-05T00:00:00",
                    "2020-07-06T00:00:00",
                    "2020-07-07T00:00:00",
                    "2020-07-08T00:00:00",
                    "2020-07-09T00:00:00",
                    "2020-07-10T00:00:00",
                    "2020-07-11T00:00:00",
                    "2020-07-12T00:00:00",
                    "2020-07-13T00:00:00",
                    "2020-07-14T00:00:00",
                    "2020-07-15T00:00:00",
                    "2020-07-16T00:00:00",
                    "2020-07-17T00:00:00",
                    "2020-07-18T00:00:00",
                    "2020-07-19T00:00:00",
                    "2020-07-20T00:00:00",
                    "2020-07-21T00:00:00",
                    "2020-07-22T00:00:00",
                    "2020-07-23T00:00:00",
                    "2020-07-24T00:00:00",
                    "2020-07-25T00:00:00",
                    "2020-07-26T00:00:00",
                    "2020-07-27T00:00:00",
                    "2020-07-28T00:00:00",
                    "2020-07-29T00:00:00",
                    "2020-07-30T00:00:00",
                    "2020-07-31T00:00:00",
                    "2020-08-01T00:00:00",
                    "2020-08-02T00:00:00",
                    "2020-08-03T00:00:00",
                    "2020-08-04T00:00:00",
                    "2020-08-05T00:00:00",
                    "2020-08-06T00:00:00",
                    "2020-08-07T00:00:00",
                    "2020-08-08T00:00:00",
                    "2020-08-09T00:00:00",
                    "2020-08-10T00:00:00",
                    "2020-08-11T00:00:00",
                    "2020-08-12T00:00:00",
                    "2020-08-13T00:00:00",
                    "2020-08-14T00:00:00",
                    "2020-08-15T00:00:00",
                    "2020-08-16T00:00:00",
                    "2020-08-17T00:00:00",
                    "2020-08-18T00:00:00",
                    "2020-08-19T00:00:00",
                    "2020-08-20T00:00:00",
                    "2020-08-21T00:00:00",
                    "2020-08-22T00:00:00",
                    "2020-08-23T00:00:00",
                    "2020-08-24T00:00:00",
                    "2020-08-25T00:00:00",
                    "2020-08-26T00:00:00",
                    "2020-08-27T00:00:00",
                    "2020-08-28T00:00:00",
                    "2020-08-29T00:00:00",
                    "2020-08-30T00:00:00",
                    "2020-08-31T00:00:00",
                    "2020-09-01T00:00:00",
                    "2020-09-02T00:00:00",
                    "2020-09-03T00:00:00",
                    "2020-09-04T00:00:00",
                    "2020-09-05T00:00:00",
                    "2020-09-06T00:00:00",
                    "2020-09-07T00:00:00",
                    "2020-09-08T00:00:00",
                    "2020-09-09T00:00:00",
                    "2020-09-10T00:00:00",
                    "2020-09-11T00:00:00",
                    "2020-09-12T00:00:00",
                    "2020-09-13T00:00:00",
                    "2020-09-14T00:00:00",
                    "2020-09-15T00:00:00",
                    "2020-09-16T00:00:00",
                    "2020-09-17T00:00:00",
                    "2020-09-18T00:00:00",
                    "2020-09-19T00:00:00",
                    "2020-09-20T00:00:00",
                    "2020-09-21T00:00:00",
                    "2020-09-22T00:00:00",
                    "2020-09-23T00:00:00",
                    "2020-09-24T00:00:00",
                    "2020-09-25T00:00:00",
                    "2020-09-26T00:00:00",
                    "2020-09-27T00:00:00",
                    "2020-09-28T00:00:00",
                    "2020-09-29T00:00:00",
                    "2020-09-30T00:00:00",
                    "2020-10-01T00:00:00",
                    "2020-10-02T00:00:00",
                    "2020-10-03T00:00:00",
                    "2020-10-04T00:00:00",
                    "2020-10-05T00:00:00",
                    "2020-10-06T00:00:00",
                    "2020-10-07T00:00:00",
                    "2020-10-08T00:00:00",
                    "2020-10-09T00:00:00",
                    "2020-10-10T00:00:00"
                  ],
                  "type": "scatter",
                  "mode": "lines+markers",
                  "name": "Confirmed Cases"
                },
                {
                  "y": [
                    3,
                    3,
                    10,
                    10,
                    13,
                    14,
                    14,
                    15,
                    20,
                    23,
                    24,
                    24,
                    37,
                    40,
                    43,
                    67,
                    80,
                    87,
                    100,
                    124,
                    133,
                    151,
                    157,
                    184,
                    267,
                    292,
                    326,
                    402,
                    473,
                    504,
                    643,
                    716,
                    857,
                    1036,
                    1306,
                    1489,
                    1749,
                    1992,
                    2231,
                    2547,
                    3252,
                    3870,
                    4258,
                    4749,
                    5063,
                    5804,
                    6185,
                    6869,
                    7696,
                    8325,
                    8889,
                    9951,
                    10633,
                    11707,
                    12727,
                    14183,
                    15267,
                    16540,
                    17847,
                    19358,
                    20917,
                    22455,
                    24386,
                    26235,
                    27920,
                    30153,
                    34109,
                    36824,
                    39174,
                    42298,
                    45300,
                    48534,
                    51784,
                    54441,
                    57721,
                    60491,
                    64426,
                    67692,
                    71106,
                    82370,
                    86984,
                    91819,
                    95527,
                    100303,
                    104107,
                    109462,
                    114073,
                    119293,
                    124095,
                    129215,
                    135206,
                    141029,
                    147195,
                    154330,
                    162379,
                    169798,
                    180013,
                    186935,
                    194325,
                    204711,
                    213831,
                    227756,
                    237196,
                    248190,
                    258685,
                    271697,
                    285637,
                    295881,
                    309713,
                    321723,
                    334822,
                    347979,
                    359860,
                    379892,
                    394227,
                    409083,
                    424433,
                    439948,
                    456831,
                    476378,
                    495513,
                    515386,
                    534621,
                    553471,
                    571460,
                    592032,
                    612815,
                    635757,
                    653751,
                    677423,
                    700087,
                    724578,
                    753050,
                    782607,
                    817209,
                    849432,
                    885577,
                    917568,
                    952743,
                    988029,
                    1020582,
                    1057805,
                    1094374,
                    1145629,
                    1186203,
                    1230509,
                    1282215,
                    1328336,
                    1378105,
                    1427005,
                    1480884,
                    1535743,
                    1583489,
                    1639599,
                    1695982,
                    1751555,
                    1808936,
                    1862258,
                    1919842,
                    1977779,
                    2037870,
                    2096664,
                    2158946,
                    2222577,
                    2280566,
                    2338035,
                    2404585,
                    2467758,
                    2523771,
                    2583948,
                    2648998,
                    2713933,
                    2774801,
                    2839882,
                    2901908,
                    2970492,
                    3037151,
                    3107223,
                    3180865,
                    3250429,
                    3323950,
                    3398844,
                    3471783,
                    3542663,
                    3624196,
                    3702595,
                    3780107,
                    3859399,
                    3942360,
                    4025079,
                    4112551,
                    4208431,
                    4303043,
                    4396399,
                    4497867,
                    4587613,
                    4674987,
                    4756164,
                    4849584,
                    4941627,
                    5016520,
                    5101397,
                    5187825,
                    5273201,
                    5352078,
                    5427706,
                    5509966,
                    5586703,
                    5662490,
                    5744693,
                    5827704,
                    5906069,
                    5988822
                  ],
                  "x": [
                    "2020-03-12T00:00:00",
                    "2020-03-13T00:00:00",
                    "2020-03-14T00:00:00",
                    "2020-03-15T00:00:00",
                    "2020-03-16T00:00:00",
                    "2020-03-17T00:00:00",
                    "2020-03-18T00:00:00",
                    "2020-03-19T00:00:00",
                    "2020-03-20T00:00:00",
                    "2020-03-21T00:00:00",
                    "2020-03-22T00:00:00",
                    "2020-03-23T00:00:00",
                    "2020-03-24T00:00:00",
                    "2020-03-25T00:00:00",
                    "2020-03-26T00:00:00",
                    "2020-03-27T00:00:00",
                    "2020-03-28T00:00:00",
                    "2020-03-29T00:00:00",
                    "2020-03-30T00:00:00",
                    "2020-03-31T00:00:00",
                    "2020-04-01T00:00:00",
                    "2020-04-02T00:00:00",
                    "2020-04-03T00:00:00",
                    "2020-04-04T00:00:00",
                    "2020-04-05T00:00:00",
                    "2020-04-06T00:00:00",
                    "2020-04-07T00:00:00",
                    "2020-04-08T00:00:00",
                    "2020-04-09T00:00:00",
                    "2020-04-10T00:00:00",
                    "2020-04-11T00:00:00",
                    "2020-04-12T00:00:00",
                    "2020-04-13T00:00:00",
                    "2020-04-14T00:00:00",
                    "2020-04-15T00:00:00",
                    "2020-04-16T00:00:00",
                    "2020-04-17T00:00:00",
                    "2020-04-18T00:00:00",
                    "2020-04-19T00:00:00",
                    "2020-04-20T00:00:00",
                    "2020-04-21T00:00:00",
                    "2020-04-22T00:00:00",
                    "2020-04-23T00:00:00",
                    "2020-04-24T00:00:00",
                    "2020-04-25T00:00:00",
                    "2020-04-26T00:00:00",
                    "2020-04-27T00:00:00",
                    "2020-04-28T00:00:00",
                    "2020-04-29T00:00:00",
                    "2020-04-30T00:00:00",
                    "2020-05-01T00:00:00",
                    "2020-05-02T00:00:00",
                    "2020-05-03T00:00:00",
                    "2020-05-04T00:00:00",
                    "2020-05-05T00:00:00",
                    "2020-05-06T00:00:00",
                    "2020-05-07T00:00:00",
                    "2020-05-08T00:00:00",
                    "2020-05-09T00:00:00",
                    "2020-05-10T00:00:00",
                    "2020-05-11T00:00:00",
                    "2020-05-12T00:00:00",
                    "2020-05-13T00:00:00",
                    "2020-05-14T00:00:00",
                    "2020-05-15T00:00:00",
                    "2020-05-16T00:00:00",
                    "2020-05-17T00:00:00",
                    "2020-05-18T00:00:00",
                    "2020-05-19T00:00:00",
                    "2020-05-20T00:00:00",
                    "2020-05-21T00:00:00",
                    "2020-05-22T00:00:00",
                    "2020-05-23T00:00:00",
                    "2020-05-24T00:00:00",
                    "2020-05-25T00:00:00",
                    "2020-05-26T00:00:00",
                    "2020-05-27T00:00:00",
                    "2020-05-28T00:00:00",
                    "2020-05-29T00:00:00",
                    "2020-05-30T00:00:00",
                    "2020-05-31T00:00:00",
                    "2020-06-01T00:00:00",
                    "2020-06-02T00:00:00",
                    "2020-06-03T00:00:00",
                    "2020-06-04T00:00:00",
                    "2020-06-05T00:00:00",
                    "2020-06-06T00:00:00",
                    "2020-06-07T00:00:00",
                    "2020-06-08T00:00:00",
                    "2020-06-09T00:00:00",
                    "2020-06-10T00:00:00",
                    "2020-06-11T00:00:00",
                    "2020-06-12T00:00:00",
                    "2020-06-13T00:00:00",
                    "2020-06-14T00:00:00",
                    "2020-06-15T00:00:00",
                    "2020-06-16T00:00:00",
                    "2020-06-17T00:00:00",
                    "2020-06-18T00:00:00",
                    "2020-06-19T00:00:00",
                    "2020-06-20T00:00:00",
                    "2020-06-21T00:00:00",
                    "2020-06-22T00:00:00",
                    "2020-06-23T00:00:00",
                    "2020-06-24T00:00:00",
                    "2020-06-25T00:00:00",
                    "2020-06-26T00:00:00",
                    "2020-06-27T00:00:00",
                    "2020-06-28T00:00:00",
                    "2020-06-29T00:00:00",
                    "2020-06-30T00:00:00",
                    "2020-07-01T00:00:00",
                    "2020-07-02T00:00:00",
                    "2020-07-03T00:00:00",
                    "2020-07-04T00:00:00",
                    "2020-07-05T00:00:00",
                    "2020-07-06T00:00:00",
                    "2020-07-07T00:00:00",
                    "2020-07-08T00:00:00",
                    "2020-07-09T00:00:00",
                    "2020-07-10T00:00:00",
                    "2020-07-11T00:00:00",
                    "2020-07-12T00:00:00",
                    "2020-07-13T00:00:00",
                    "2020-07-14T00:00:00",
                    "2020-07-15T00:00:00",
                    "2020-07-16T00:00:00",
                    "2020-07-17T00:00:00",
                    "2020-07-18T00:00:00",
                    "2020-07-19T00:00:00",
                    "2020-07-20T00:00:00",
                    "2020-07-21T00:00:00",
                    "2020-07-22T00:00:00",
                    "2020-07-23T00:00:00",
                    "2020-07-24T00:00:00",
                    "2020-07-25T00:00:00",
                    "2020-07-26T00:00:00",
                    "2020-07-27T00:00:00",
                    "2020-07-28T00:00:00",
                    "2020-07-29T00:00:00",
                    "2020-07-30T00:00:00",
                    "2020-07-31T00:00:00",
                    "2020-08-01T00:00:00",
                    "2020-08-02T00:00:00",
                    "2020-08-03T00:00:00",
                    "2020-08-04T00:00:00",
                    "2020-08-05T00:00:00",
                    "2020-08-06T00:00:00",
                    "2020-08-07T00:00:00",
                    "2020-08-08T00:00:00",
                    "2020-08-09T00:00:00",
                    "2020-08-10T00:00:00",
                    "2020-08-11T00:00:00",
                    "2020-08-12T00:00:00",
                    "2020-08-13T00:00:00",
                    "2020-08-14T00:00:00",
                    "2020-08-15T00:00:00",
                    "2020-08-16T00:00:00",
                    "2020-08-17T00:00:00",
                    "2020-08-18T00:00:00",
                    "2020-08-19T00:00:00",
                    "2020-08-20T00:00:00",
                    "2020-08-21T00:00:00",
                    "2020-08-22T00:00:00",
                    "2020-08-23T00:00:00",
                    "2020-08-24T00:00:00",
                    "2020-08-25T00:00:00",
                    "2020-08-26T00:00:00",
                    "2020-08-27T00:00:00",
                    "2020-08-28T00:00:00",
                    "2020-08-29T00:00:00",
                    "2020-08-30T00:00:00",
                    "2020-08-31T00:00:00",
                    "2020-09-01T00:00:00",
                    "2020-09-02T00:00:00",
                    "2020-09-03T00:00:00",
                    "2020-09-04T00:00:00",
                    "2020-09-05T00:00:00",
                    "2020-09-06T00:00:00",
                    "2020-09-07T00:00:00",
                    "2020-09-08T00:00:00",
                    "2020-09-09T00:00:00",
                    "2020-09-10T00:00:00",
                    "2020-09-11T00:00:00",
                    "2020-09-12T00:00:00",
                    "2020-09-13T00:00:00",
                    "2020-09-14T00:00:00",
                    "2020-09-15T00:00:00",
                    "2020-09-16T00:00:00",
                    "2020-09-17T00:00:00",
                    "2020-09-18T00:00:00",
                    "2020-09-19T00:00:00",
                    "2020-09-20T00:00:00",
                    "2020-09-21T00:00:00",
                    "2020-09-22T00:00:00",
                    "2020-09-23T00:00:00",
                    "2020-09-24T00:00:00",
                    "2020-09-25T00:00:00",
                    "2020-09-26T00:00:00",
                    "2020-09-27T00:00:00",
                    "2020-09-28T00:00:00",
                    "2020-09-29T00:00:00",
                    "2020-09-30T00:00:00",
                    "2020-10-01T00:00:00",
                    "2020-10-02T00:00:00",
                    "2020-10-03T00:00:00",
                    "2020-10-04T00:00:00",
                    "2020-10-05T00:00:00",
                    "2020-10-06T00:00:00",
                    "2020-10-07T00:00:00",
                    "2020-10-08T00:00:00",
                    "2020-10-09T00:00:00",
                    "2020-10-10T00:00:00"
                  ],
                  "type": "scatter",
                  "mode": "lines+markers",
                  "name": "Cured Cases"
                },
                {
                  "y": [
                    0,
                    1,
                    2,
                    2,
                    2,
                    3,
                    3,
                    3,
                    4,
                    4,
                    7,
                    7,
                    9,
                    10,
                    13,
                    17,
                    19,
                    25,
                    29,
                    35,
                    38,
                    50,
                    56,
                    68,
                    77,
                    109,
                    114,
                    149,
                    166,
                    199,
                    239,
                    273,
                    308,
                    339,
                    377,
                    414,
                    437,
                    480,
                    507,
                    543,
                    590,
                    640,
                    681,
                    718,
                    775,
                    824,
                    872,
                    934,
                    1007,
                    1074,
                    1147,
                    1218,
                    1301,
                    1373,
                    1568,
                    1694,
                    1783,
                    1886,
                    1981,
                    2109,
                    2206,
                    2293,
                    2415,
                    2549,
                    2649,
                    2752,
                    2872,
                    3029,
                    3163,
                    3303,
                    3435,
                    3583,
                    3720,
                    3867,
                    4021,
                    4167,
                    4337,
                    4531,
                    4706,
                    4971,
                    5164,
                    5394,
                    5598,
                    5815,
                    6075,
                    6348,
                    6642,
                    6929,
                    7135,
                    7466,
                    7745,
                    8102,
                    8498,
                    8884,
                    9195,
                    9520,
                    9900,
                    11903,
                    12237,
                    12573,
                    12948,
                    13254,
                    13699,
                    14011,
                    14476,
                    14894,
                    15301,
                    15685,
                    16095,
                    16475,
                    16893,
                    17400,
                    17834,
                    18213,
                    18655,
                    19268,
                    19693,
                    20160,
                    20642,
                    21129,
                    21604,
                    22123,
                    22674,
                    23174,
                    23727,
                    24309,
                    24915,
                    25602,
                    26273,
                    26816,
                    27497,
                    28084,
                    28732,
                    29861,
                    30601,
                    31358,
                    32063,
                    32771,
                    33425,
                    34193,
                    34968,
                    35747,
                    36511,
                    37364,
                    38135,
                    38938,
                    39795,
                    40699,
                    41585,
                    42518,
                    43379,
                    44386,
                    45257,
                    46091,
                    47033,
                    48040,
                    49036,
                    49980,
                    50921,
                    51797,
                    52889,
                    53866,
                    54849,
                    55794,
                    56706,
                    57542,
                    58390,
                    59449,
                    60472,
                    61529,
                    62550,
                    63498,
                    64469,
                    65288,
                    66333,
                    67376,
                    68472,
                    69561,
                    70626,
                    71642,
                    72775,
                    73890,
                    75062,
                    76271,
                    77472,
                    78586,
                    79722,
                    80776,
                    82066,
                    83198,
                    84372,
                    85619,
                    86752,
                    87882,
                    88935,
                    90020,
                    91149,
                    92290,
                    93379,
                    94503,
                    95542,
                    96318,
                    97497,
                    98678,
                    99773,
                    100842,
                    101782,
                    102685,
                    103569,
                    104555,
                    105526,
                    106490,
                    107416
                  ],
                  "x": [
                    "2020-03-12T00:00:00",
                    "2020-03-13T00:00:00",
                    "2020-03-14T00:00:00",
                    "2020-03-15T00:00:00",
                    "2020-03-16T00:00:00",
                    "2020-03-17T00:00:00",
                    "2020-03-18T00:00:00",
                    "2020-03-19T00:00:00",
                    "2020-03-20T00:00:00",
                    "2020-03-21T00:00:00",
                    "2020-03-22T00:00:00",
                    "2020-03-23T00:00:00",
                    "2020-03-24T00:00:00",
                    "2020-03-25T00:00:00",
                    "2020-03-26T00:00:00",
                    "2020-03-27T00:00:00",
                    "2020-03-28T00:00:00",
                    "2020-03-29T00:00:00",
                    "2020-03-30T00:00:00",
                    "2020-03-31T00:00:00",
                    "2020-04-01T00:00:00",
                    "2020-04-02T00:00:00",
                    "2020-04-03T00:00:00",
                    "2020-04-04T00:00:00",
                    "2020-04-05T00:00:00",
                    "2020-04-06T00:00:00",
                    "2020-04-07T00:00:00",
                    "2020-04-08T00:00:00",
                    "2020-04-09T00:00:00",
                    "2020-04-10T00:00:00",
                    "2020-04-11T00:00:00",
                    "2020-04-12T00:00:00",
                    "2020-04-13T00:00:00",
                    "2020-04-14T00:00:00",
                    "2020-04-15T00:00:00",
                    "2020-04-16T00:00:00",
                    "2020-04-17T00:00:00",
                    "2020-04-18T00:00:00",
                    "2020-04-19T00:00:00",
                    "2020-04-20T00:00:00",
                    "2020-04-21T00:00:00",
                    "2020-04-22T00:00:00",
                    "2020-04-23T00:00:00",
                    "2020-04-24T00:00:00",
                    "2020-04-25T00:00:00",
                    "2020-04-26T00:00:00",
                    "2020-04-27T00:00:00",
                    "2020-04-28T00:00:00",
                    "2020-04-29T00:00:00",
                    "2020-04-30T00:00:00",
                    "2020-05-01T00:00:00",
                    "2020-05-02T00:00:00",
                    "2020-05-03T00:00:00",
                    "2020-05-04T00:00:00",
                    "2020-05-05T00:00:00",
                    "2020-05-06T00:00:00",
                    "2020-05-07T00:00:00",
                    "2020-05-08T00:00:00",
                    "2020-05-09T00:00:00",
                    "2020-05-10T00:00:00",
                    "2020-05-11T00:00:00",
                    "2020-05-12T00:00:00",
                    "2020-05-13T00:00:00",
                    "2020-05-14T00:00:00",
                    "2020-05-15T00:00:00",
                    "2020-05-16T00:00:00",
                    "2020-05-17T00:00:00",
                    "2020-05-18T00:00:00",
                    "2020-05-19T00:00:00",
                    "2020-05-20T00:00:00",
                    "2020-05-21T00:00:00",
                    "2020-05-22T00:00:00",
                    "2020-05-23T00:00:00",
                    "2020-05-24T00:00:00",
                    "2020-05-25T00:00:00",
                    "2020-05-26T00:00:00",
                    "2020-05-27T00:00:00",
                    "2020-05-28T00:00:00",
                    "2020-05-29T00:00:00",
                    "2020-05-30T00:00:00",
                    "2020-05-31T00:00:00",
                    "2020-06-01T00:00:00",
                    "2020-06-02T00:00:00",
                    "2020-06-03T00:00:00",
                    "2020-06-04T00:00:00",
                    "2020-06-05T00:00:00",
                    "2020-06-06T00:00:00",
                    "2020-06-07T00:00:00",
                    "2020-06-08T00:00:00",
                    "2020-06-09T00:00:00",
                    "2020-06-10T00:00:00",
                    "2020-06-11T00:00:00",
                    "2020-06-12T00:00:00",
                    "2020-06-13T00:00:00",
                    "2020-06-14T00:00:00",
                    "2020-06-15T00:00:00",
                    "2020-06-16T00:00:00",
                    "2020-06-17T00:00:00",
                    "2020-06-18T00:00:00",
                    "2020-06-19T00:00:00",
                    "2020-06-20T00:00:00",
                    "2020-06-21T00:00:00",
                    "2020-06-22T00:00:00",
                    "2020-06-23T00:00:00",
                    "2020-06-24T00:00:00",
                    "2020-06-25T00:00:00",
                    "2020-06-26T00:00:00",
                    "2020-06-27T00:00:00",
                    "2020-06-28T00:00:00",
                    "2020-06-29T00:00:00",
                    "2020-06-30T00:00:00",
                    "2020-07-01T00:00:00",
                    "2020-07-02T00:00:00",
                    "2020-07-03T00:00:00",
                    "2020-07-04T00:00:00",
                    "2020-07-05T00:00:00",
                    "2020-07-06T00:00:00",
                    "2020-07-07T00:00:00",
                    "2020-07-08T00:00:00",
                    "2020-07-09T00:00:00",
                    "2020-07-10T00:00:00",
                    "2020-07-11T00:00:00",
                    "2020-07-12T00:00:00",
                    "2020-07-13T00:00:00",
                    "2020-07-14T00:00:00",
                    "2020-07-15T00:00:00",
                    "2020-07-16T00:00:00",
                    "2020-07-17T00:00:00",
                    "2020-07-18T00:00:00",
                    "2020-07-19T00:00:00",
                    "2020-07-20T00:00:00",
                    "2020-07-21T00:00:00",
                    "2020-07-22T00:00:00",
                    "2020-07-23T00:00:00",
                    "2020-07-24T00:00:00",
                    "2020-07-25T00:00:00",
                    "2020-07-26T00:00:00",
                    "2020-07-27T00:00:00",
                    "2020-07-28T00:00:00",
                    "2020-07-29T00:00:00",
                    "2020-07-30T00:00:00",
                    "2020-07-31T00:00:00",
                    "2020-08-01T00:00:00",
                    "2020-08-02T00:00:00",
                    "2020-08-03T00:00:00",
                    "2020-08-04T00:00:00",
                    "2020-08-05T00:00:00",
                    "2020-08-06T00:00:00",
                    "2020-08-07T00:00:00",
                    "2020-08-08T00:00:00",
                    "2020-08-09T00:00:00",
                    "2020-08-10T00:00:00",
                    "2020-08-11T00:00:00",
                    "2020-08-12T00:00:00",
                    "2020-08-13T00:00:00",
                    "2020-08-14T00:00:00",
                    "2020-08-15T00:00:00",
                    "2020-08-16T00:00:00",
                    "2020-08-17T00:00:00",
                    "2020-08-18T00:00:00",
                    "2020-08-19T00:00:00",
                    "2020-08-20T00:00:00",
                    "2020-08-21T00:00:00",
                    "2020-08-22T00:00:00",
                    "2020-08-23T00:00:00",
                    "2020-08-24T00:00:00",
                    "2020-08-25T00:00:00",
                    "2020-08-26T00:00:00",
                    "2020-08-27T00:00:00",
                    "2020-08-28T00:00:00",
                    "2020-08-29T00:00:00",
                    "2020-08-30T00:00:00",
                    "2020-08-31T00:00:00",
                    "2020-09-01T00:00:00",
                    "2020-09-02T00:00:00",
                    "2020-09-03T00:00:00",
                    "2020-09-04T00:00:00",
                    "2020-09-05T00:00:00",
                    "2020-09-06T00:00:00",
                    "2020-09-07T00:00:00",
                    "2020-09-08T00:00:00",
                    "2020-09-09T00:00:00",
                    "2020-09-10T00:00:00",
                    "2020-09-11T00:00:00",
                    "2020-09-12T00:00:00",
                    "2020-09-13T00:00:00",
                    "2020-09-14T00:00:00",
                    "2020-09-15T00:00:00",
                    "2020-09-16T00:00:00",
                    "2020-09-17T00:00:00",
                    "2020-09-18T00:00:00",
                    "2020-09-19T00:00:00",
                    "2020-09-20T00:00:00",
                    "2020-09-21T00:00:00",
                    "2020-09-22T00:00:00",
                    "2020-09-23T00:00:00",
                    "2020-09-24T00:00:00",
                    "2020-09-25T00:00:00",
                    "2020-09-26T00:00:00",
                    "2020-09-27T00:00:00",
                    "2020-09-28T00:00:00",
                    "2020-09-29T00:00:00",
                    "2020-09-30T00:00:00",
                    "2020-10-01T00:00:00",
                    "2020-10-02T00:00:00",
                    "2020-10-03T00:00:00",
                    "2020-10-04T00:00:00",
                    "2020-10-05T00:00:00",
                    "2020-10-06T00:00:00",
                    "2020-10-07T00:00:00",
                    "2020-10-08T00:00:00",
                    "2020-10-09T00:00:00",
                    "2020-10-10T00:00:00"
                  ],
                  "type": "scatter",
                  "mode": "lines+markers",
                  "name": "Death Cases"
                }
              ],
              "config": {
                "plotlyServerURL": "https://plot.ly"
              },
              "layout": {
                "xaxis": {
                  "title": {
                    "text": "Date"
                  }
                },
                "yaxis": {
                  "title": {
                    "text": "Number of Cases"
                  }
                },
                "legend": {
                  "y": 1,
                  "x": 0,
                  "traceorder": "normal"
                },
                "template": {
                  "layout": {
                    "shapedefaults": {
                      "line": {
                        "color": "#2a3f5f"
                      }
                    },
                    "polar": {
                      "radialaxis": {
                        "ticks": "",
                        "gridcolor": "white",
                        "linecolor": "white"
                      },
                      "bgcolor": "#E5ECF6",
                      "angularaxis": {
                        "ticks": "",
                        "gridcolor": "white",
                        "linecolor": "white"
                      }
                    },
                    "colorway": [
                      "#636efa",
                      "#EF553B",
                      "#00cc96",
                      "#ab63fa",
                      "#FFA15A",
                      "#19d3f3",
                      "#FF6692",
                      "#B6E880",
                      "#FF97FF",
                      "#FECB52"
                    ],
                    "xaxis": {
                      "automargin": true,
                      "title": {
                        "standoff": 15
                      },
                      "zerolinewidth": 2,
                      "ticks": "",
                      "zerolinecolor": "white",
                      "gridcolor": "white",
                      "linecolor": "white"
                    },
                    "colorscale": {
                      "diverging": [
                        [
                          0,
                          "#8e0152"
                        ],
                        [
                          0.1,
                          "#c51b7d"
                        ],
                        [
                          0.2,
                          "#de77ae"
                        ],
                        [
                          0.3,
                          "#f1b6da"
                        ],
                        [
                          0.4,
                          "#fde0ef"
                        ],
                        [
                          0.5,
                          "#f7f7f7"
                        ],
                        [
                          0.6,
                          "#e6f5d0"
                        ],
                        [
                          0.7,
                          "#b8e186"
                        ],
                        [
                          0.8,
                          "#7fbc41"
                        ],
                        [
                          0.9,
                          "#4d9221"
                        ],
                        [
                          1,
                          "#276419"
                        ]
                      ],
                      "sequential": [
                        [
                          0,
                          "#0d0887"
                        ],
                        [
                          0.1111111111111111,
                          "#46039f"
                        ],
                        [
                          0.2222222222222222,
                          "#7201a8"
                        ],
                        [
                          0.3333333333333333,
                          "#9c179e"
                        ],
                        [
                          0.4444444444444444,
                          "#bd3786"
                        ],
                        [
                          0.5555555555555556,
                          "#d8576b"
                        ],
                        [
                          0.6666666666666666,
                          "#ed7953"
                        ],
                        [
                          0.7777777777777778,
                          "#fb9f3a"
                        ],
                        [
                          0.8888888888888888,
                          "#fdca26"
                        ],
                        [
                          1,
                          "#f0f921"
                        ]
                      ],
                      "sequentialminus": [
                        [
                          0,
                          "#0d0887"
                        ],
                        [
                          0.1111111111111111,
                          "#46039f"
                        ],
                        [
                          0.2222222222222222,
                          "#7201a8"
                        ],
                        [
                          0.3333333333333333,
                          "#9c179e"
                        ],
                        [
                          0.4444444444444444,
                          "#bd3786"
                        ],
                        [
                          0.5555555555555556,
                          "#d8576b"
                        ],
                        [
                          0.6666666666666666,
                          "#ed7953"
                        ],
                        [
                          0.7777777777777778,
                          "#fb9f3a"
                        ],
                        [
                          0.8888888888888888,
                          "#fdca26"
                        ],
                        [
                          1,
                          "#f0f921"
                        ]
                      ]
                    },
                    "paper_bgcolor": "white",
                    "plot_bgcolor": "#E5ECF6",
                    "title": {
                      "x": 0.05
                    },
                    "scene": {
                      "zaxis": {
                        "backgroundcolor": "#E5ECF6",
                        "ticks": "",
                        "gridwidth": 2,
                        "showbackground": true,
                        "zerolinecolor": "white",
                        "gridcolor": "white",
                        "linecolor": "white"
                      },
                      "xaxis": {
                        "backgroundcolor": "#E5ECF6",
                        "ticks": "",
                        "gridwidth": 2,
                        "showbackground": true,
                        "zerolinecolor": "white",
                        "gridcolor": "white",
                        "linecolor": "white"
                      },
                      "yaxis": {
                        "backgroundcolor": "#E5ECF6",
                        "ticks": "",
                        "gridwidth": 2,
                        "showbackground": true,
                        "zerolinecolor": "white",
                        "gridcolor": "white",
                        "linecolor": "white"
                      }
                    },
                    "yaxis": {
                      "automargin": true,
                      "title": {
                        "standoff": 15
                      },
                      "zerolinewidth": 2,
                      "ticks": "",
                      "zerolinecolor": "white",
                      "gridcolor": "white",
                      "linecolor": "white"
                    },
                    "annotationdefaults": {
                      "arrowwidth": 1,
                      "arrowhead": 0,
                      "arrowcolor": "#2a3f5f"
                    },
                    "hoverlabel": {
                      "align": "left"
                    },
                    "ternary": {
                      "bgcolor": "#E5ECF6",
                      "baxis": {
                        "ticks": "",
                        "gridcolor": "white",
                        "linecolor": "white"
                      },
                      "caxis": {
                        "ticks": "",
                        "gridcolor": "white",
                        "linecolor": "white"
                      },
                      "aaxis": {
                        "ticks": "",
                        "gridcolor": "white",
                        "linecolor": "white"
                      }
                    },
                    "mapbox": {
                      "style": "light"
                    },
                    "hovermode": "closest",
                    "font": {
                      "color": "#2a3f5f"
                    },
                    "geo": {
                      "showland": true,
                      "landcolor": "#E5ECF6",
                      "showlakes": true,
                      "bgcolor": "white",
                      "subunitcolor": "white",
                      "lakecolor": "white"
                    },
                    "coloraxis": {
                      "colorbar": {
                        "outlinewidth": 0,
                        "ticks": ""
                      }
                    }
                  },
                  "data": {
                    "mesh3d": [
                      {
                        "colorbar": {
                          "outlinewidth": 0,
                          "ticks": ""
                        },
                        "type": "mesh3d"
                      }
                    ],
                    "scattercarpet": [
                      {
                        "marker": {
                          "colorbar": {
                            "outlinewidth": 0,
                            "ticks": ""
                          }
                        },
                        "type": "scattercarpet"
                      }
                    ],
                    "pie": [
                      {
                        "automargin": true,
                        "type": "pie"
                      }
                    ],
                    "surface": [
                      {
                        "colorbar": {
                          "outlinewidth": 0,
                          "ticks": ""
                        },
                        "type": "surface",
                        "colorscale": [
                          [
                            0,
                            "#0d0887"
                          ],
                          [
                            0.1111111111111111,
                            "#46039f"
                          ],
                          [
                            0.2222222222222222,
                            "#7201a8"
                          ],
                          [
                            0.3333333333333333,
                            "#9c179e"
                          ],
                          [
                            0.4444444444444444,
                            "#bd3786"
                          ],
                          [
                            0.5555555555555556,
                            "#d8576b"
                          ],
                          [
                            0.6666666666666666,
                            "#ed7953"
                          ],
                          [
                            0.7777777777777778,
                            "#fb9f3a"
                          ],
                          [
                            0.8888888888888888,
                            "#fdca26"
                          ],
                          [
                            1,
                            "#f0f921"
                          ]
                        ]
                      }
                    ],
                    "table": [
                      {
                        "header": {
                          "line": {
                            "color": "white"
                          },
                          "fill": {
                            "color": "#C8D4E3"
                          }
                        },
                        "cells": {
                          "line": {
                            "color": "white"
                          },
                          "fill": {
                            "color": "#EBF0F8"
                          }
                        },
                        "type": "table"
                      }
                    ],
                    "scatterpolargl": [
                      {
                        "marker": {
                          "colorbar": {
                            "outlinewidth": 0,
                            "ticks": ""
                          }
                        },
                        "type": "scatterpolargl"
                      }
                    ],
                    "contour": [
                      {
                        "colorbar": {
                          "outlinewidth": 0,
                          "ticks": ""
                        },
                        "type": "contour",
                        "colorscale": [
                          [
                            0,
                            "#0d0887"
                          ],
                          [
                            0.1111111111111111,
                            "#46039f"
                          ],
                          [
                            0.2222222222222222,
                            "#7201a8"
                          ],
                          [
                            0.3333333333333333,
                            "#9c179e"
                          ],
                          [
                            0.4444444444444444,
                            "#bd3786"
                          ],
                          [
                            0.5555555555555556,
                            "#d8576b"
                          ],
                          [
                            0.6666666666666666,
                            "#ed7953"
                          ],
                          [
                            0.7777777777777778,
                            "#fb9f3a"
                          ],
                          [
                            0.8888888888888888,
                            "#fdca26"
                          ],
                          [
                            1,
                            "#f0f921"
                          ]
                        ]
                      }
                    ],
                    "carpet": [
                      {
                        "type": "carpet",
                        "baxis": {
                          "minorgridcolor": "white",
                          "gridcolor": "white",
                          "linecolor": "white",
                          "endlinecolor": "#2a3f5f",
                          "startlinecolor": "#2a3f5f"
                        },
                        "aaxis": {
                          "minorgridcolor": "white",
                          "gridcolor": "white",
                          "linecolor": "white",
                          "endlinecolor": "#2a3f5f",
                          "startlinecolor": "#2a3f5f"
                        }
                      }
                    ],
                    "contourcarpet": [
                      {
                        "colorbar": {
                          "outlinewidth": 0,
                          "ticks": ""
                        },
                        "type": "contourcarpet"
                      }
                    ],
                    "heatmap": [
                      {
                        "colorbar": {
                          "outlinewidth": 0,
                          "ticks": ""
                        },
                        "type": "heatmap",
                        "colorscale": [
                          [
                            0,
                            "#0d0887"
                          ],
                          [
                            0.1111111111111111,
                            "#46039f"
                          ],
                          [
                            0.2222222222222222,
                            "#7201a8"
                          ],
                          [
                            0.3333333333333333,
                            "#9c179e"
                          ],
                          [
                            0.4444444444444444,
                            "#bd3786"
                          ],
                          [
                            0.5555555555555556,
                            "#d8576b"
                          ],
                          [
                            0.6666666666666666,
                            "#ed7953"
                          ],
                          [
                            0.7777777777777778,
                            "#fb9f3a"
                          ],
                          [
                            0.8888888888888888,
                            "#fdca26"
                          ],
                          [
                            1,
                            "#f0f921"
                          ]
                        ]
                      }
                    ],
                    "scattermapbox": [
                      {
                        "marker": {
                          "colorbar": {
                            "outlinewidth": 0,
                            "ticks": ""
                          }
                        },
                        "type": "scattermapbox"
                      }
                    ],
                    "scatter3d": [
                      {
                        "marker": {
                          "colorbar": {
                            "outlinewidth": 0,
                            "ticks": ""
                          }
                        },
                        "line": {
                          "colorbar": {
                            "outlinewidth": 0,
                            "ticks": ""
                          }
                        },
                        "type": "scatter3d"
                      }
                    ],
                    "scattergl": [
                      {
                        "marker": {
                          "colorbar": {
                            "outlinewidth": 0,
                            "ticks": ""
                          }
                        },
                        "type": "scattergl"
                      }
                    ],
                    "scatterternary": [
                      {
                        "marker": {
                          "colorbar": {
                            "outlinewidth": 0,
                            "ticks": ""
                          }
                        },
                        "type": "scatterternary"
                      }
                    ],
                    "histogram": [
                      {
                        "marker": {
                          "colorbar": {
                            "outlinewidth": 0,
                            "ticks": ""
                          }
                        },
                        "type": "histogram"
                      }
                    ],
                    "heatmapgl": [
                      {
                        "colorbar": {
                          "outlinewidth": 0,
                          "ticks": ""
                        },
                        "type": "heatmapgl",
                        "colorscale": [
                          [
                            0,
                            "#0d0887"
                          ],
                          [
                            0.1111111111111111,
                            "#46039f"
                          ],
                          [
                            0.2222222222222222,
                            "#7201a8"
                          ],
                          [
                            0.3333333333333333,
                            "#9c179e"
                          ],
                          [
                            0.4444444444444444,
                            "#bd3786"
                          ],
                          [
                            0.5555555555555556,
                            "#d8576b"
                          ],
                          [
                            0.6666666666666666,
                            "#ed7953"
                          ],
                          [
                            0.7777777777777778,
                            "#fb9f3a"
                          ],
                          [
                            0.8888888888888888,
                            "#fdca26"
                          ],
                          [
                            1,
                            "#f0f921"
                          ]
                        ]
                      }
                    ],
                    "scatterpolar": [
                      {
                        "marker": {
                          "colorbar": {
                            "outlinewidth": 0,
                            "ticks": ""
                          }
                        },
                        "type": "scatterpolar"
                      }
                    ],
                    "histogram2d": [
                      {
                        "colorbar": {
                          "outlinewidth": 0,
                          "ticks": ""
                        },
                        "type": "histogram2d",
                        "colorscale": [
                          [
                            0,
                            "#0d0887"
                          ],
                          [
                            0.1111111111111111,
                            "#46039f"
                          ],
                          [
                            0.2222222222222222,
                            "#7201a8"
                          ],
                          [
                            0.3333333333333333,
                            "#9c179e"
                          ],
                          [
                            0.4444444444444444,
                            "#bd3786"
                          ],
                          [
                            0.5555555555555556,
                            "#d8576b"
                          ],
                          [
                            0.6666666666666666,
                            "#ed7953"
                          ],
                          [
                            0.7777777777777778,
                            "#fb9f3a"
                          ],
                          [
                            0.8888888888888888,
                            "#fdca26"
                          ],
                          [
                            1,
                            "#f0f921"
                          ]
                        ]
                      }
                    ],
                    "scattergeo": [
                      {
                        "marker": {
                          "colorbar": {
                            "outlinewidth": 0,
                            "ticks": ""
                          }
                        },
                        "type": "scattergeo"
                      }
                    ],
                    "bar": [
                      {
                        "marker": {
                          "line": {
                            "color": "#E5ECF6",
                            "width": 0.5
                          }
                        },
                        "type": "bar",
                        "error_x": {
                          "color": "#2a3f5f"
                        },
                        "error_y": {
                          "color": "#2a3f5f"
                        }
                      }
                    ],
                    "choropleth": [
                      {
                        "colorbar": {
                          "outlinewidth": 0,
                          "ticks": ""
                        },
                        "type": "choropleth"
                      }
                    ],
                    "parcoords": [
                      {
                        "line": {
                          "colorbar": {
                            "outlinewidth": 0,
                            "ticks": ""
                          }
                        },
                        "type": "parcoords"
                      }
                    ],
                    "barpolar": [
                      {
                        "marker": {
                          "line": {
                            "color": "#E5ECF6",
                            "width": 0.5
                          }
                        },
                        "type": "barpolar"
                      }
                    ],
                    "histogram2dcontour": [
                      {
                        "colorbar": {
                          "outlinewidth": 0,
                          "ticks": ""
                        },
                        "type": "histogram2dcontour",
                        "colorscale": [
                          [
                            0,
                            "#0d0887"
                          ],
                          [
                            0.1111111111111111,
                            "#46039f"
                          ],
                          [
                            0.2222222222222222,
                            "#7201a8"
                          ],
                          [
                            0.3333333333333333,
                            "#9c179e"
                          ],
                          [
                            0.4444444444444444,
                            "#bd3786"
                          ],
                          [
                            0.5555555555555556,
                            "#d8576b"
                          ],
                          [
                            0.6666666666666666,
                            "#ed7953"
                          ],
                          [
                            0.7777777777777778,
                            "#fb9f3a"
                          ],
                          [
                            0.8888888888888888,
                            "#fdca26"
                          ],
                          [
                            1,
                            "#f0f921"
                          ]
                        ]
                      }
                    ],
                    "scatter": [
                      {
                        "marker": {
                          "colorbar": {
                            "outlinewidth": 0,
                            "ticks": ""
                          }
                        },
                        "type": "scatter"
                      }
                    ]
                  }
                },
                "title": {
                  "text": " Growth of Different types of cases"
                }
              }
            }
          },
          "metadata": {
            "tags": []
          }
        }
      ]
    },
    {
      "cell_type": "code",
      "metadata": {
        "id": "1nRI8BngXw5T",
        "outputId": "3c2cbb08-37e5-4ba8-9752-e4f946c7172f",
        "colab": {
          "base_uri": "https://localhost:8080/",
          "height": 542
        }
      },
      "source": [
        "specs = [[{'type':'domain'}, {'type':'domain'}],[{'type':'domain'}, {'type':'domain'}]]\n",
        "fig = make_subplots(rows=2, cols=2, specs=specs, subplot_titles=[\"Maharashtra\",\"Andra Pradesh\",\"Karnataka\",\n",
        "\"Tamil Nadu\"])\n",
        "\n",
        "#Maharashtra\n",
        "Maharashtra_active = statewise['Active Cases'].iloc[0]\n",
        "Maharashtra_cured = statewise['Cured/Discharged'].iloc[0]\n",
        "Maharashtra_death = statewise['Death'].iloc[0]\n",
        "\n",
        "labels=['Active Cases','Cured/Discharged','Death']\n",
        "values_maharashtra=[Maharashtra_active,Maharashtra_cured,Maharashtra_death]\n",
        "fig.add_trace(go.Pie(labels=labels, values=values_maharashtra), 1, 1)\n",
        "\n",
        "#Andrapradesh\n",
        "ap_active = statewise['Active Cases'].iloc[1]\n",
        "ap_cured =statewise['Cured/Discharged'].iloc[1]\n",
        "ap_death =statewise['Death'].iloc[1]\n",
        "\n",
        "labels=['Active Cases','Cured/Discharged','Death']\n",
        "values_ap=[ap_active,ap_cured,ap_death]\n",
        "fig.add_trace(go.Pie(labels=labels, values=values_ap), 1, 2)\n",
        "\n",
        "#Karnataka\n",
        "karnataka_active = statewise['Active Cases'].iloc[2]\n",
        "karnataka_cured = statewise['Cured/Discharged'].iloc[2]\n",
        "karnataka_death = statewise['Death'].iloc[2]\n",
        "\n",
        "labels=['Active Cases','Cured/Discharged','Death']\n",
        "values_karnataka=[karnataka_active,karnataka_cured,karnataka_death]\n",
        "fig.add_trace(go.Pie(labels=labels, values=values_karnataka), 2, 1)\n",
        "\n",
        "#Tamilnadu\n",
        "tn_active = statewise['Active Cases'].iloc[3]\n",
        "tn_cured = statewise['Cured/Discharged'].iloc[3]\n",
        "tn_death = statewise['Death'].iloc[3]\n",
        "\n",
        "labels=['Active Cases','Cured/Discharged','Death']\n",
        "values_tn=[tn_active,tn_cured,tn_death]\n",
        "fig.add_trace(go.Pie(labels=labels, values=values_tn), 2, 2)\n",
        "\n",
        "fig.update(layout_title_text='State wise pie chart of different types of cases',layout_showlegend=False)\n",
        "fig = go.Figure(fig)\n",
        "fig.show()"
      ],
      "execution_count": 13,
      "outputs": [
        {
          "output_type": "display_data",
          "data": {
            "text/html": [
              "<div>\n",
              "        \n",
              "        \n",
              "            <div id=\"68e432ef-1b6c-4b4e-a153-a9f70be8c779\" class=\"plotly-graph-div\" style=\"height:525px; width:100%;\"></div>\n",
              "            <script type=\"text/javascript\">\n",
              "                require([\"plotly\"], function(Plotly) {\n",
              "                    window.PLOTLYENV=window.PLOTLYENV || {};\n",
              "                    \n",
              "                if (document.getElementById(\"68e432ef-1b6c-4b4e-a153-a9f70be8c779\")) {\n",
              "                    Plotly.newPlot(\n",
              "                        '68e432ef-1b6c-4b4e-a153-a9f70be8c779',\n",
              "                        [{\"domain\": {\"x\": [0.0, 0.45], \"y\": [0.625, 1.0]}, \"labels\": [\"Active Cases\", \"Cured/Discharged\", \"Death\"], \"type\": \"pie\", \"values\": [1, 0.0, 0.0]}, {\"domain\": {\"x\": [0.55, 1.0], \"y\": [0.625, 1.0]}, \"labels\": [\"Active Cases\", \"Cured/Discharged\", \"Death\"], \"type\": \"pie\", \"values\": [6, 0.0, 0.0]}, {\"domain\": {\"x\": [0.0, 0.45], \"y\": [0.0, 0.375]}, \"labels\": [\"Active Cases\", \"Cured/Discharged\", \"Death\"], \"type\": \"pie\", \"values\": [9, 0.0, 0.0]}, {\"domain\": {\"x\": [0.55, 1.0], \"y\": [0.0, 0.375]}, \"labels\": [\"Active Cases\", \"Cured/Discharged\", \"Death\"], \"type\": \"pie\", \"values\": [9, 0.0, 0.0]}],\n",
              "                        {\"annotations\": [{\"font\": {\"size\": 16}, \"showarrow\": false, \"text\": \"Maharashtra\", \"x\": 0.225, \"xanchor\": \"center\", \"xref\": \"paper\", \"y\": 1.0, \"yanchor\": \"bottom\", \"yref\": \"paper\"}, {\"font\": {\"size\": 16}, \"showarrow\": false, \"text\": \"Andra Pradesh\", \"x\": 0.775, \"xanchor\": \"center\", \"xref\": \"paper\", \"y\": 1.0, \"yanchor\": \"bottom\", \"yref\": \"paper\"}, {\"font\": {\"size\": 16}, \"showarrow\": false, \"text\": \"Karnataka\", \"x\": 0.225, \"xanchor\": \"center\", \"xref\": \"paper\", \"y\": 0.375, \"yanchor\": \"bottom\", \"yref\": \"paper\"}, {\"font\": {\"size\": 16}, \"showarrow\": false, \"text\": \"Tamil Nadu\", \"x\": 0.775, \"xanchor\": \"center\", \"xref\": \"paper\", \"y\": 0.375, \"yanchor\": \"bottom\", \"yref\": \"paper\"}], \"showlegend\": false, \"template\": {\"data\": {\"bar\": [{\"error_x\": {\"color\": \"#2a3f5f\"}, \"error_y\": {\"color\": \"#2a3f5f\"}, \"marker\": {\"line\": {\"color\": \"#E5ECF6\", \"width\": 0.5}}, \"type\": \"bar\"}], \"barpolar\": [{\"marker\": {\"line\": {\"color\": \"#E5ECF6\", \"width\": 0.5}}, \"type\": \"barpolar\"}], \"carpet\": [{\"aaxis\": {\"endlinecolor\": \"#2a3f5f\", \"gridcolor\": \"white\", \"linecolor\": \"white\", \"minorgridcolor\": \"white\", \"startlinecolor\": \"#2a3f5f\"}, \"baxis\": {\"endlinecolor\": \"#2a3f5f\", \"gridcolor\": \"white\", \"linecolor\": \"white\", \"minorgridcolor\": \"white\", \"startlinecolor\": \"#2a3f5f\"}, \"type\": \"carpet\"}], \"choropleth\": [{\"colorbar\": {\"outlinewidth\": 0, \"ticks\": \"\"}, \"type\": \"choropleth\"}], \"contour\": [{\"colorbar\": {\"outlinewidth\": 0, \"ticks\": \"\"}, \"colorscale\": [[0.0, \"#0d0887\"], [0.1111111111111111, \"#46039f\"], [0.2222222222222222, \"#7201a8\"], [0.3333333333333333, \"#9c179e\"], [0.4444444444444444, \"#bd3786\"], [0.5555555555555556, \"#d8576b\"], [0.6666666666666666, \"#ed7953\"], [0.7777777777777778, \"#fb9f3a\"], [0.8888888888888888, \"#fdca26\"], [1.0, \"#f0f921\"]], \"type\": \"contour\"}], \"contourcarpet\": [{\"colorbar\": {\"outlinewidth\": 0, \"ticks\": \"\"}, \"type\": \"contourcarpet\"}], \"heatmap\": [{\"colorbar\": {\"outlinewidth\": 0, \"ticks\": \"\"}, \"colorscale\": [[0.0, \"#0d0887\"], [0.1111111111111111, \"#46039f\"], [0.2222222222222222, \"#7201a8\"], [0.3333333333333333, \"#9c179e\"], [0.4444444444444444, \"#bd3786\"], [0.5555555555555556, \"#d8576b\"], [0.6666666666666666, \"#ed7953\"], [0.7777777777777778, \"#fb9f3a\"], [0.8888888888888888, \"#fdca26\"], [1.0, \"#f0f921\"]], \"type\": \"heatmap\"}], \"heatmapgl\": [{\"colorbar\": {\"outlinewidth\": 0, \"ticks\": \"\"}, \"colorscale\": [[0.0, \"#0d0887\"], [0.1111111111111111, \"#46039f\"], [0.2222222222222222, \"#7201a8\"], [0.3333333333333333, \"#9c179e\"], [0.4444444444444444, \"#bd3786\"], [0.5555555555555556, \"#d8576b\"], [0.6666666666666666, \"#ed7953\"], [0.7777777777777778, \"#fb9f3a\"], [0.8888888888888888, \"#fdca26\"], [1.0, \"#f0f921\"]], \"type\": \"heatmapgl\"}], \"histogram\": [{\"marker\": {\"colorbar\": {\"outlinewidth\": 0, \"ticks\": \"\"}}, \"type\": \"histogram\"}], \"histogram2d\": [{\"colorbar\": {\"outlinewidth\": 0, \"ticks\": \"\"}, \"colorscale\": [[0.0, \"#0d0887\"], [0.1111111111111111, \"#46039f\"], [0.2222222222222222, \"#7201a8\"], [0.3333333333333333, \"#9c179e\"], [0.4444444444444444, \"#bd3786\"], [0.5555555555555556, \"#d8576b\"], [0.6666666666666666, \"#ed7953\"], [0.7777777777777778, \"#fb9f3a\"], [0.8888888888888888, \"#fdca26\"], [1.0, \"#f0f921\"]], \"type\": \"histogram2d\"}], \"histogram2dcontour\": [{\"colorbar\": {\"outlinewidth\": 0, \"ticks\": \"\"}, \"colorscale\": [[0.0, \"#0d0887\"], [0.1111111111111111, \"#46039f\"], [0.2222222222222222, \"#7201a8\"], [0.3333333333333333, \"#9c179e\"], [0.4444444444444444, \"#bd3786\"], [0.5555555555555556, \"#d8576b\"], [0.6666666666666666, \"#ed7953\"], [0.7777777777777778, \"#fb9f3a\"], [0.8888888888888888, \"#fdca26\"], [1.0, \"#f0f921\"]], \"type\": \"histogram2dcontour\"}], \"mesh3d\": [{\"colorbar\": {\"outlinewidth\": 0, \"ticks\": \"\"}, \"type\": \"mesh3d\"}], \"parcoords\": [{\"line\": {\"colorbar\": {\"outlinewidth\": 0, \"ticks\": \"\"}}, \"type\": \"parcoords\"}], \"pie\": [{\"automargin\": true, \"type\": \"pie\"}], \"scatter\": [{\"marker\": {\"colorbar\": {\"outlinewidth\": 0, \"ticks\": \"\"}}, \"type\": \"scatter\"}], \"scatter3d\": [{\"line\": {\"colorbar\": {\"outlinewidth\": 0, \"ticks\": \"\"}}, \"marker\": {\"colorbar\": {\"outlinewidth\": 0, \"ticks\": \"\"}}, \"type\": \"scatter3d\"}], \"scattercarpet\": [{\"marker\": {\"colorbar\": {\"outlinewidth\": 0, \"ticks\": \"\"}}, \"type\": \"scattercarpet\"}], \"scattergeo\": [{\"marker\": {\"colorbar\": {\"outlinewidth\": 0, \"ticks\": \"\"}}, \"type\": \"scattergeo\"}], \"scattergl\": [{\"marker\": {\"colorbar\": {\"outlinewidth\": 0, \"ticks\": \"\"}}, \"type\": \"scattergl\"}], \"scattermapbox\": [{\"marker\": {\"colorbar\": {\"outlinewidth\": 0, \"ticks\": \"\"}}, \"type\": \"scattermapbox\"}], \"scatterpolar\": [{\"marker\": {\"colorbar\": {\"outlinewidth\": 0, \"ticks\": \"\"}}, \"type\": \"scatterpolar\"}], \"scatterpolargl\": [{\"marker\": {\"colorbar\": {\"outlinewidth\": 0, \"ticks\": \"\"}}, \"type\": \"scatterpolargl\"}], \"scatterternary\": [{\"marker\": {\"colorbar\": {\"outlinewidth\": 0, \"ticks\": \"\"}}, \"type\": \"scatterternary\"}], \"surface\": [{\"colorbar\": {\"outlinewidth\": 0, \"ticks\": \"\"}, \"colorscale\": [[0.0, \"#0d0887\"], [0.1111111111111111, \"#46039f\"], [0.2222222222222222, \"#7201a8\"], [0.3333333333333333, \"#9c179e\"], [0.4444444444444444, \"#bd3786\"], [0.5555555555555556, \"#d8576b\"], [0.6666666666666666, \"#ed7953\"], [0.7777777777777778, \"#fb9f3a\"], [0.8888888888888888, \"#fdca26\"], [1.0, \"#f0f921\"]], \"type\": \"surface\"}], \"table\": [{\"cells\": {\"fill\": {\"color\": \"#EBF0F8\"}, \"line\": {\"color\": \"white\"}}, \"header\": {\"fill\": {\"color\": \"#C8D4E3\"}, \"line\": {\"color\": \"white\"}}, \"type\": \"table\"}]}, \"layout\": {\"annotationdefaults\": {\"arrowcolor\": \"#2a3f5f\", \"arrowhead\": 0, \"arrowwidth\": 1}, \"coloraxis\": {\"colorbar\": {\"outlinewidth\": 0, \"ticks\": \"\"}}, \"colorscale\": {\"diverging\": [[0, \"#8e0152\"], [0.1, \"#c51b7d\"], [0.2, \"#de77ae\"], [0.3, \"#f1b6da\"], [0.4, \"#fde0ef\"], [0.5, \"#f7f7f7\"], [0.6, \"#e6f5d0\"], [0.7, \"#b8e186\"], [0.8, \"#7fbc41\"], [0.9, \"#4d9221\"], [1, \"#276419\"]], \"sequential\": [[0.0, \"#0d0887\"], [0.1111111111111111, \"#46039f\"], [0.2222222222222222, \"#7201a8\"], [0.3333333333333333, \"#9c179e\"], [0.4444444444444444, \"#bd3786\"], [0.5555555555555556, \"#d8576b\"], [0.6666666666666666, \"#ed7953\"], [0.7777777777777778, \"#fb9f3a\"], [0.8888888888888888, \"#fdca26\"], [1.0, \"#f0f921\"]], \"sequentialminus\": [[0.0, \"#0d0887\"], [0.1111111111111111, \"#46039f\"], [0.2222222222222222, \"#7201a8\"], [0.3333333333333333, \"#9c179e\"], [0.4444444444444444, \"#bd3786\"], [0.5555555555555556, \"#d8576b\"], [0.6666666666666666, \"#ed7953\"], [0.7777777777777778, \"#fb9f3a\"], [0.8888888888888888, \"#fdca26\"], [1.0, \"#f0f921\"]]}, \"colorway\": [\"#636efa\", \"#EF553B\", \"#00cc96\", \"#ab63fa\", \"#FFA15A\", \"#19d3f3\", \"#FF6692\", \"#B6E880\", \"#FF97FF\", \"#FECB52\"], \"font\": {\"color\": \"#2a3f5f\"}, \"geo\": {\"bgcolor\": \"white\", \"lakecolor\": \"white\", \"landcolor\": \"#E5ECF6\", \"showlakes\": true, \"showland\": true, \"subunitcolor\": \"white\"}, \"hoverlabel\": {\"align\": \"left\"}, \"hovermode\": \"closest\", \"mapbox\": {\"style\": \"light\"}, \"paper_bgcolor\": \"white\", \"plot_bgcolor\": \"#E5ECF6\", \"polar\": {\"angularaxis\": {\"gridcolor\": \"white\", \"linecolor\": \"white\", \"ticks\": \"\"}, \"bgcolor\": \"#E5ECF6\", \"radialaxis\": {\"gridcolor\": \"white\", \"linecolor\": \"white\", \"ticks\": \"\"}}, \"scene\": {\"xaxis\": {\"backgroundcolor\": \"#E5ECF6\", \"gridcolor\": \"white\", \"gridwidth\": 2, \"linecolor\": \"white\", \"showbackground\": true, \"ticks\": \"\", \"zerolinecolor\": \"white\"}, \"yaxis\": {\"backgroundcolor\": \"#E5ECF6\", \"gridcolor\": \"white\", \"gridwidth\": 2, \"linecolor\": \"white\", \"showbackground\": true, \"ticks\": \"\", \"zerolinecolor\": \"white\"}, \"zaxis\": {\"backgroundcolor\": \"#E5ECF6\", \"gridcolor\": \"white\", \"gridwidth\": 2, \"linecolor\": \"white\", \"showbackground\": true, \"ticks\": \"\", \"zerolinecolor\": \"white\"}}, \"shapedefaults\": {\"line\": {\"color\": \"#2a3f5f\"}}, \"ternary\": {\"aaxis\": {\"gridcolor\": \"white\", \"linecolor\": \"white\", \"ticks\": \"\"}, \"baxis\": {\"gridcolor\": \"white\", \"linecolor\": \"white\", \"ticks\": \"\"}, \"bgcolor\": \"#E5ECF6\", \"caxis\": {\"gridcolor\": \"white\", \"linecolor\": \"white\", \"ticks\": \"\"}}, \"title\": {\"x\": 0.05}, \"xaxis\": {\"automargin\": true, \"gridcolor\": \"white\", \"linecolor\": \"white\", \"ticks\": \"\", \"title\": {\"standoff\": 15}, \"zerolinecolor\": \"white\", \"zerolinewidth\": 2}, \"yaxis\": {\"automargin\": true, \"gridcolor\": \"white\", \"linecolor\": \"white\", \"ticks\": \"\", \"title\": {\"standoff\": 15}, \"zerolinecolor\": \"white\", \"zerolinewidth\": 2}}}, \"title\": {\"text\": \"State wise pie chart of different types of cases\"}},\n",
              "                        {\"responsive\": true}\n",
              "                    ).then(function(){\n",
              "                            \n",
              "var gd = document.getElementById('68e432ef-1b6c-4b4e-a153-a9f70be8c779');\n",
              "var x = new MutationObserver(function (mutations, observer) {{\n",
              "        var display = window.getComputedStyle(gd).display;\n",
              "        if (!display || display === 'none') {{\n",
              "            console.log([gd, 'removed!']);\n",
              "            Plotly.purge(gd);\n",
              "            observer.disconnect();\n",
              "        }}\n",
              "}});\n",
              "\n",
              "// Listen for the removal of the full notebook cells\n",
              "var notebookContainer = gd.closest('#notebook-container');\n",
              "if (notebookContainer) {{\n",
              "    x.observe(notebookContainer, {childList: true});\n",
              "}}\n",
              "\n",
              "// Listen for the clearing of the current output cell\n",
              "var outputEl = gd.closest('.output');\n",
              "if (outputEl) {{\n",
              "    x.observe(outputEl, {childList: true});\n",
              "}}\n",
              "\n",
              "                        })\n",
              "                };\n",
              "                });\n",
              "            </script>\n",
              "        </div>"
            ],
            "application/vnd.plotly.v1+json": {
              "data": [
                {
                  "values": [
                    1,
                    0,
                    0
                  ],
                  "domain": {
                    "y": [
                      0.625,
                      1
                    ],
                    "x": [
                      0,
                      0.45
                    ]
                  },
                  "labels": [
                    "Active Cases",
                    "Cured/Discharged",
                    "Death"
                  ],
                  "type": "pie"
                },
                {
                  "values": [
                    6,
                    0,
                    0
                  ],
                  "domain": {
                    "y": [
                      0.625,
                      1
                    ],
                    "x": [
                      0.55,
                      1
                    ]
                  },
                  "labels": [
                    "Active Cases",
                    "Cured/Discharged",
                    "Death"
                  ],
                  "type": "pie"
                },
                {
                  "values": [
                    9,
                    0,
                    0
                  ],
                  "domain": {
                    "y": [
                      0,
                      0.375
                    ],
                    "x": [
                      0,
                      0.45
                    ]
                  },
                  "labels": [
                    "Active Cases",
                    "Cured/Discharged",
                    "Death"
                  ],
                  "type": "pie"
                },
                {
                  "values": [
                    9,
                    0,
                    0
                  ],
                  "domain": {
                    "y": [
                      0,
                      0.375
                    ],
                    "x": [
                      0.55,
                      1
                    ]
                  },
                  "labels": [
                    "Active Cases",
                    "Cured/Discharged",
                    "Death"
                  ],
                  "type": "pie"
                }
              ],
              "config": {
                "plotlyServerURL": "https://plot.ly"
              },
              "layout": {
                "showlegend": false,
                "annotations": [
                  {
                    "yanchor": "bottom",
                    "xref": "paper",
                    "xanchor": "center",
                    "yref": "paper",
                    "text": "Maharashtra",
                    "y": 1,
                    "x": 0.225,
                    "font": {
                      "size": 16
                    },
                    "showarrow": false
                  },
                  {
                    "yanchor": "bottom",
                    "xref": "paper",
                    "xanchor": "center",
                    "yref": "paper",
                    "text": "Andra Pradesh",
                    "y": 1,
                    "x": 0.775,
                    "font": {
                      "size": 16
                    },
                    "showarrow": false
                  },
                  {
                    "yanchor": "bottom",
                    "xref": "paper",
                    "xanchor": "center",
                    "yref": "paper",
                    "text": "Karnataka",
                    "y": 0.375,
                    "x": 0.225,
                    "font": {
                      "size": 16
                    },
                    "showarrow": false
                  },
                  {
                    "yanchor": "bottom",
                    "xref": "paper",
                    "xanchor": "center",
                    "yref": "paper",
                    "text": "Tamil Nadu",
                    "y": 0.375,
                    "x": 0.775,
                    "font": {
                      "size": 16
                    },
                    "showarrow": false
                  }
                ],
                "template": {
                  "layout": {
                    "shapedefaults": {
                      "line": {
                        "color": "#2a3f5f"
                      }
                    },
                    "polar": {
                      "radialaxis": {
                        "ticks": "",
                        "gridcolor": "white",
                        "linecolor": "white"
                      },
                      "bgcolor": "#E5ECF6",
                      "angularaxis": {
                        "ticks": "",
                        "gridcolor": "white",
                        "linecolor": "white"
                      }
                    },
                    "colorway": [
                      "#636efa",
                      "#EF553B",
                      "#00cc96",
                      "#ab63fa",
                      "#FFA15A",
                      "#19d3f3",
                      "#FF6692",
                      "#B6E880",
                      "#FF97FF",
                      "#FECB52"
                    ],
                    "xaxis": {
                      "automargin": true,
                      "title": {
                        "standoff": 15
                      },
                      "zerolinewidth": 2,
                      "ticks": "",
                      "zerolinecolor": "white",
                      "gridcolor": "white",
                      "linecolor": "white"
                    },
                    "colorscale": {
                      "diverging": [
                        [
                          0,
                          "#8e0152"
                        ],
                        [
                          0.1,
                          "#c51b7d"
                        ],
                        [
                          0.2,
                          "#de77ae"
                        ],
                        [
                          0.3,
                          "#f1b6da"
                        ],
                        [
                          0.4,
                          "#fde0ef"
                        ],
                        [
                          0.5,
                          "#f7f7f7"
                        ],
                        [
                          0.6,
                          "#e6f5d0"
                        ],
                        [
                          0.7,
                          "#b8e186"
                        ],
                        [
                          0.8,
                          "#7fbc41"
                        ],
                        [
                          0.9,
                          "#4d9221"
                        ],
                        [
                          1,
                          "#276419"
                        ]
                      ],
                      "sequential": [
                        [
                          0,
                          "#0d0887"
                        ],
                        [
                          0.1111111111111111,
                          "#46039f"
                        ],
                        [
                          0.2222222222222222,
                          "#7201a8"
                        ],
                        [
                          0.3333333333333333,
                          "#9c179e"
                        ],
                        [
                          0.4444444444444444,
                          "#bd3786"
                        ],
                        [
                          0.5555555555555556,
                          "#d8576b"
                        ],
                        [
                          0.6666666666666666,
                          "#ed7953"
                        ],
                        [
                          0.7777777777777778,
                          "#fb9f3a"
                        ],
                        [
                          0.8888888888888888,
                          "#fdca26"
                        ],
                        [
                          1,
                          "#f0f921"
                        ]
                      ],
                      "sequentialminus": [
                        [
                          0,
                          "#0d0887"
                        ],
                        [
                          0.1111111111111111,
                          "#46039f"
                        ],
                        [
                          0.2222222222222222,
                          "#7201a8"
                        ],
                        [
                          0.3333333333333333,
                          "#9c179e"
                        ],
                        [
                          0.4444444444444444,
                          "#bd3786"
                        ],
                        [
                          0.5555555555555556,
                          "#d8576b"
                        ],
                        [
                          0.6666666666666666,
                          "#ed7953"
                        ],
                        [
                          0.7777777777777778,
                          "#fb9f3a"
                        ],
                        [
                          0.8888888888888888,
                          "#fdca26"
                        ],
                        [
                          1,
                          "#f0f921"
                        ]
                      ]
                    },
                    "paper_bgcolor": "white",
                    "plot_bgcolor": "#E5ECF6",
                    "title": {
                      "x": 0.05
                    },
                    "scene": {
                      "zaxis": {
                        "backgroundcolor": "#E5ECF6",
                        "ticks": "",
                        "gridwidth": 2,
                        "showbackground": true,
                        "zerolinecolor": "white",
                        "gridcolor": "white",
                        "linecolor": "white"
                      },
                      "xaxis": {
                        "backgroundcolor": "#E5ECF6",
                        "ticks": "",
                        "gridwidth": 2,
                        "showbackground": true,
                        "zerolinecolor": "white",
                        "gridcolor": "white",
                        "linecolor": "white"
                      },
                      "yaxis": {
                        "backgroundcolor": "#E5ECF6",
                        "ticks": "",
                        "gridwidth": 2,
                        "showbackground": true,
                        "zerolinecolor": "white",
                        "gridcolor": "white",
                        "linecolor": "white"
                      }
                    },
                    "yaxis": {
                      "automargin": true,
                      "title": {
                        "standoff": 15
                      },
                      "zerolinewidth": 2,
                      "ticks": "",
                      "zerolinecolor": "white",
                      "gridcolor": "white",
                      "linecolor": "white"
                    },
                    "annotationdefaults": {
                      "arrowwidth": 1,
                      "arrowhead": 0,
                      "arrowcolor": "#2a3f5f"
                    },
                    "hoverlabel": {
                      "align": "left"
                    },
                    "ternary": {
                      "bgcolor": "#E5ECF6",
                      "baxis": {
                        "ticks": "",
                        "gridcolor": "white",
                        "linecolor": "white"
                      },
                      "caxis": {
                        "ticks": "",
                        "gridcolor": "white",
                        "linecolor": "white"
                      },
                      "aaxis": {
                        "ticks": "",
                        "gridcolor": "white",
                        "linecolor": "white"
                      }
                    },
                    "mapbox": {
                      "style": "light"
                    },
                    "hovermode": "closest",
                    "font": {
                      "color": "#2a3f5f"
                    },
                    "geo": {
                      "showland": true,
                      "landcolor": "#E5ECF6",
                      "showlakes": true,
                      "bgcolor": "white",
                      "subunitcolor": "white",
                      "lakecolor": "white"
                    },
                    "coloraxis": {
                      "colorbar": {
                        "outlinewidth": 0,
                        "ticks": ""
                      }
                    }
                  },
                  "data": {
                    "mesh3d": [
                      {
                        "colorbar": {
                          "outlinewidth": 0,
                          "ticks": ""
                        },
                        "type": "mesh3d"
                      }
                    ],
                    "scattercarpet": [
                      {
                        "marker": {
                          "colorbar": {
                            "outlinewidth": 0,
                            "ticks": ""
                          }
                        },
                        "type": "scattercarpet"
                      }
                    ],
                    "pie": [
                      {
                        "automargin": true,
                        "type": "pie"
                      }
                    ],
                    "surface": [
                      {
                        "colorbar": {
                          "outlinewidth": 0,
                          "ticks": ""
                        },
                        "type": "surface",
                        "colorscale": [
                          [
                            0,
                            "#0d0887"
                          ],
                          [
                            0.1111111111111111,
                            "#46039f"
                          ],
                          [
                            0.2222222222222222,
                            "#7201a8"
                          ],
                          [
                            0.3333333333333333,
                            "#9c179e"
                          ],
                          [
                            0.4444444444444444,
                            "#bd3786"
                          ],
                          [
                            0.5555555555555556,
                            "#d8576b"
                          ],
                          [
                            0.6666666666666666,
                            "#ed7953"
                          ],
                          [
                            0.7777777777777778,
                            "#fb9f3a"
                          ],
                          [
                            0.8888888888888888,
                            "#fdca26"
                          ],
                          [
                            1,
                            "#f0f921"
                          ]
                        ]
                      }
                    ],
                    "table": [
                      {
                        "header": {
                          "line": {
                            "color": "white"
                          },
                          "fill": {
                            "color": "#C8D4E3"
                          }
                        },
                        "cells": {
                          "line": {
                            "color": "white"
                          },
                          "fill": {
                            "color": "#EBF0F8"
                          }
                        },
                        "type": "table"
                      }
                    ],
                    "scatterpolargl": [
                      {
                        "marker": {
                          "colorbar": {
                            "outlinewidth": 0,
                            "ticks": ""
                          }
                        },
                        "type": "scatterpolargl"
                      }
                    ],
                    "contour": [
                      {
                        "colorbar": {
                          "outlinewidth": 0,
                          "ticks": ""
                        },
                        "type": "contour",
                        "colorscale": [
                          [
                            0,
                            "#0d0887"
                          ],
                          [
                            0.1111111111111111,
                            "#46039f"
                          ],
                          [
                            0.2222222222222222,
                            "#7201a8"
                          ],
                          [
                            0.3333333333333333,
                            "#9c179e"
                          ],
                          [
                            0.4444444444444444,
                            "#bd3786"
                          ],
                          [
                            0.5555555555555556,
                            "#d8576b"
                          ],
                          [
                            0.6666666666666666,
                            "#ed7953"
                          ],
                          [
                            0.7777777777777778,
                            "#fb9f3a"
                          ],
                          [
                            0.8888888888888888,
                            "#fdca26"
                          ],
                          [
                            1,
                            "#f0f921"
                          ]
                        ]
                      }
                    ],
                    "carpet": [
                      {
                        "type": "carpet",
                        "baxis": {
                          "minorgridcolor": "white",
                          "gridcolor": "white",
                          "linecolor": "white",
                          "endlinecolor": "#2a3f5f",
                          "startlinecolor": "#2a3f5f"
                        },
                        "aaxis": {
                          "minorgridcolor": "white",
                          "gridcolor": "white",
                          "linecolor": "white",
                          "endlinecolor": "#2a3f5f",
                          "startlinecolor": "#2a3f5f"
                        }
                      }
                    ],
                    "contourcarpet": [
                      {
                        "colorbar": {
                          "outlinewidth": 0,
                          "ticks": ""
                        },
                        "type": "contourcarpet"
                      }
                    ],
                    "heatmap": [
                      {
                        "colorbar": {
                          "outlinewidth": 0,
                          "ticks": ""
                        },
                        "type": "heatmap",
                        "colorscale": [
                          [
                            0,
                            "#0d0887"
                          ],
                          [
                            0.1111111111111111,
                            "#46039f"
                          ],
                          [
                            0.2222222222222222,
                            "#7201a8"
                          ],
                          [
                            0.3333333333333333,
                            "#9c179e"
                          ],
                          [
                            0.4444444444444444,
                            "#bd3786"
                          ],
                          [
                            0.5555555555555556,
                            "#d8576b"
                          ],
                          [
                            0.6666666666666666,
                            "#ed7953"
                          ],
                          [
                            0.7777777777777778,
                            "#fb9f3a"
                          ],
                          [
                            0.8888888888888888,
                            "#fdca26"
                          ],
                          [
                            1,
                            "#f0f921"
                          ]
                        ]
                      }
                    ],
                    "scattermapbox": [
                      {
                        "marker": {
                          "colorbar": {
                            "outlinewidth": 0,
                            "ticks": ""
                          }
                        },
                        "type": "scattermapbox"
                      }
                    ],
                    "scatter3d": [
                      {
                        "marker": {
                          "colorbar": {
                            "outlinewidth": 0,
                            "ticks": ""
                          }
                        },
                        "line": {
                          "colorbar": {
                            "outlinewidth": 0,
                            "ticks": ""
                          }
                        },
                        "type": "scatter3d"
                      }
                    ],
                    "scattergl": [
                      {
                        "marker": {
                          "colorbar": {
                            "outlinewidth": 0,
                            "ticks": ""
                          }
                        },
                        "type": "scattergl"
                      }
                    ],
                    "scatterternary": [
                      {
                        "marker": {
                          "colorbar": {
                            "outlinewidth": 0,
                            "ticks": ""
                          }
                        },
                        "type": "scatterternary"
                      }
                    ],
                    "histogram": [
                      {
                        "marker": {
                          "colorbar": {
                            "outlinewidth": 0,
                            "ticks": ""
                          }
                        },
                        "type": "histogram"
                      }
                    ],
                    "heatmapgl": [
                      {
                        "colorbar": {
                          "outlinewidth": 0,
                          "ticks": ""
                        },
                        "type": "heatmapgl",
                        "colorscale": [
                          [
                            0,
                            "#0d0887"
                          ],
                          [
                            0.1111111111111111,
                            "#46039f"
                          ],
                          [
                            0.2222222222222222,
                            "#7201a8"
                          ],
                          [
                            0.3333333333333333,
                            "#9c179e"
                          ],
                          [
                            0.4444444444444444,
                            "#bd3786"
                          ],
                          [
                            0.5555555555555556,
                            "#d8576b"
                          ],
                          [
                            0.6666666666666666,
                            "#ed7953"
                          ],
                          [
                            0.7777777777777778,
                            "#fb9f3a"
                          ],
                          [
                            0.8888888888888888,
                            "#fdca26"
                          ],
                          [
                            1,
                            "#f0f921"
                          ]
                        ]
                      }
                    ],
                    "scatterpolar": [
                      {
                        "marker": {
                          "colorbar": {
                            "outlinewidth": 0,
                            "ticks": ""
                          }
                        },
                        "type": "scatterpolar"
                      }
                    ],
                    "histogram2d": [
                      {
                        "colorbar": {
                          "outlinewidth": 0,
                          "ticks": ""
                        },
                        "type": "histogram2d",
                        "colorscale": [
                          [
                            0,
                            "#0d0887"
                          ],
                          [
                            0.1111111111111111,
                            "#46039f"
                          ],
                          [
                            0.2222222222222222,
                            "#7201a8"
                          ],
                          [
                            0.3333333333333333,
                            "#9c179e"
                          ],
                          [
                            0.4444444444444444,
                            "#bd3786"
                          ],
                          [
                            0.5555555555555556,
                            "#d8576b"
                          ],
                          [
                            0.6666666666666666,
                            "#ed7953"
                          ],
                          [
                            0.7777777777777778,
                            "#fb9f3a"
                          ],
                          [
                            0.8888888888888888,
                            "#fdca26"
                          ],
                          [
                            1,
                            "#f0f921"
                          ]
                        ]
                      }
                    ],
                    "scattergeo": [
                      {
                        "marker": {
                          "colorbar": {
                            "outlinewidth": 0,
                            "ticks": ""
                          }
                        },
                        "type": "scattergeo"
                      }
                    ],
                    "bar": [
                      {
                        "marker": {
                          "line": {
                            "color": "#E5ECF6",
                            "width": 0.5
                          }
                        },
                        "type": "bar",
                        "error_x": {
                          "color": "#2a3f5f"
                        },
                        "error_y": {
                          "color": "#2a3f5f"
                        }
                      }
                    ],
                    "choropleth": [
                      {
                        "colorbar": {
                          "outlinewidth": 0,
                          "ticks": ""
                        },
                        "type": "choropleth"
                      }
                    ],
                    "parcoords": [
                      {
                        "line": {
                          "colorbar": {
                            "outlinewidth": 0,
                            "ticks": ""
                          }
                        },
                        "type": "parcoords"
                      }
                    ],
                    "barpolar": [
                      {
                        "marker": {
                          "line": {
                            "color": "#E5ECF6",
                            "width": 0.5
                          }
                        },
                        "type": "barpolar"
                      }
                    ],
                    "histogram2dcontour": [
                      {
                        "colorbar": {
                          "outlinewidth": 0,
                          "ticks": ""
                        },
                        "type": "histogram2dcontour",
                        "colorscale": [
                          [
                            0,
                            "#0d0887"
                          ],
                          [
                            0.1111111111111111,
                            "#46039f"
                          ],
                          [
                            0.2222222222222222,
                            "#7201a8"
                          ],
                          [
                            0.3333333333333333,
                            "#9c179e"
                          ],
                          [
                            0.4444444444444444,
                            "#bd3786"
                          ],
                          [
                            0.5555555555555556,
                            "#d8576b"
                          ],
                          [
                            0.6666666666666666,
                            "#ed7953"
                          ],
                          [
                            0.7777777777777778,
                            "#fb9f3a"
                          ],
                          [
                            0.8888888888888888,
                            "#fdca26"
                          ],
                          [
                            1,
                            "#f0f921"
                          ]
                        ]
                      }
                    ],
                    "scatter": [
                      {
                        "marker": {
                          "colorbar": {
                            "outlinewidth": 0,
                            "ticks": ""
                          }
                        },
                        "type": "scatter"
                      }
                    ]
                  }
                },
                "title": {
                  "text": "State wise pie chart of different types of cases"
                }
              }
            }
          },
          "metadata": {
            "tags": []
          }
        }
      ]
    },
    {
      "cell_type": "code",
      "metadata": {
        "id": "IBU_DtHdX2Lj",
        "outputId": "b10be277-e0a6-4c2a-9f28-2188327c814f",
        "colab": {
          "base_uri": "https://localhost:8080/",
          "height": 235
        }
      },
      "source": [
        "specs = [[{'type':'domain'}, {'type':'domain'}],[{'type':'domain'}, {'type':'domain'}]]\n",
        "fig = make_subplots(rows=2, cols=2, specs=specs, subplot_titles=[\"Uttar Pradesh\",\"Delhi\",\"West bengal\",\"Kerela\"])\n",
        "\n",
        "#Uttarpradesh\n",
        "up_active = statecases['Active Cases'].iloc[4]\n",
        "up_cured = statecases['Cured/Discharged'].iloc[4]\n",
        "up_death = statecases['Death'].iloc[4]\n",
        "\n",
        "labels=['Active Cases','Cured/Discharged','Death']\n",
        "values_up=[up_active,up_cured,up_death]\n",
        "fig.add_trace(go.Pie(labels=labels, values=values_up), 1, 1)\n",
        "\n",
        "#Delhi\n",
        "delhi_active = statecases['Active Cases'].iloc[5]\n",
        "delhi_cured = statecases['Cured/Discharged'].iloc[5]\n",
        "delhi_death = statecases['Death'].iloc[5]\n",
        "\n",
        "labels=['Active Cases','Cured/Discharged','Death']\n",
        "values_delhi=[delhi_active,delhi_cured,delhi_death]\n",
        "fig.add_trace(go.Pie(labels=labels, values=values_delhi), 1, 2)\n",
        "\n",
        "#west bengal\n",
        "wb_active = statecases['Active Cases'].iloc[6]\n",
        "wb_cured = statecases['Cured/Discharged'].iloc[6]\n",
        "wb_death = statecases['Death'].iloc[6]\n",
        "\n",
        "labels=['Active Cases','Cured/Discharged','Death']\n",
        "values_wb=[wb_active,wb_cured,wb_death]\n",
        "fig.add_trace(go.Pie(labels=labels, values=values_wb), 2, 1)\n",
        "\n",
        "#kerela\n",
        "kerela_active = statecases['Active Cases'].iloc[7]\n",
        "kerela_cured = statecases['Cured/Discharged'].iloc[7]\n",
        "kerela_death = statecases['Death'].iloc[7]\n",
        "\n",
        "labels=['Active Cases','Cured/Discharged','Death']\n",
        "values_kerela=[kerela_active,kerela_cured,kerela_death]\n",
        "fig.add_trace(go.Pie(labels=labels, values=values_kerela), 2, 2)\n",
        "\n",
        "\n",
        "fig.update(layout_title_text='State wise pie chart of different types of cases',layout_showlegend=False)\n",
        "fig = go.Figure(fig)\n",
        "fig.show()"
      ],
      "execution_count": 14,
      "outputs": [
        {
          "output_type": "error",
          "ename": "NameError",
          "evalue": "ignored",
          "traceback": [
            "\u001b[0;31m---------------------------------------------------------------------------\u001b[0m",
            "\u001b[0;31mNameError\u001b[0m                                 Traceback (most recent call last)",
            "\u001b[0;32m<ipython-input-14-7968fa045d38>\u001b[0m in \u001b[0;36m<module>\u001b[0;34m()\u001b[0m\n\u001b[1;32m      3\u001b[0m \u001b[0;34m\u001b[0m\u001b[0m\n\u001b[1;32m      4\u001b[0m \u001b[0;31m#Uttarpradesh\u001b[0m\u001b[0;34m\u001b[0m\u001b[0;34m\u001b[0m\u001b[0;34m\u001b[0m\u001b[0m\n\u001b[0;32m----> 5\u001b[0;31m \u001b[0mup_active\u001b[0m \u001b[0;34m=\u001b[0m \u001b[0mstatecases\u001b[0m\u001b[0;34m[\u001b[0m\u001b[0;34m'Active Cases'\u001b[0m\u001b[0;34m]\u001b[0m\u001b[0;34m.\u001b[0m\u001b[0miloc\u001b[0m\u001b[0;34m[\u001b[0m\u001b[0;36m4\u001b[0m\u001b[0;34m]\u001b[0m\u001b[0;34m\u001b[0m\u001b[0;34m\u001b[0m\u001b[0m\n\u001b[0m\u001b[1;32m      6\u001b[0m \u001b[0mup_cured\u001b[0m \u001b[0;34m=\u001b[0m \u001b[0mstatecases\u001b[0m\u001b[0;34m[\u001b[0m\u001b[0;34m'Cured/Discharged'\u001b[0m\u001b[0;34m]\u001b[0m\u001b[0;34m.\u001b[0m\u001b[0miloc\u001b[0m\u001b[0;34m[\u001b[0m\u001b[0;36m4\u001b[0m\u001b[0;34m]\u001b[0m\u001b[0;34m\u001b[0m\u001b[0;34m\u001b[0m\u001b[0m\n\u001b[1;32m      7\u001b[0m \u001b[0mup_death\u001b[0m \u001b[0;34m=\u001b[0m \u001b[0mstatecases\u001b[0m\u001b[0;34m[\u001b[0m\u001b[0;34m'Death'\u001b[0m\u001b[0;34m]\u001b[0m\u001b[0;34m.\u001b[0m\u001b[0miloc\u001b[0m\u001b[0;34m[\u001b[0m\u001b[0;36m4\u001b[0m\u001b[0;34m]\u001b[0m\u001b[0;34m\u001b[0m\u001b[0;34m\u001b[0m\u001b[0m\n",
            "\u001b[0;31mNameError\u001b[0m: name 'statecases' is not defined"
          ]
        }
      ]
    }
  ]
}